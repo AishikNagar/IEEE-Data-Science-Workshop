{
 "cells": [
  {
   "cell_type": "markdown",
   "metadata": {},
   "source": [
    "# Welcome to the Data Science Workshop"
   ]
  },
  {
   "cell_type": "markdown",
   "metadata": {},
   "source": [
    "Welome to the Data Science workshop!\n",
    "\n",
    "In this workshop, you will learn how to do an Exploratory Data Analysis (EDA) on real-world data sets using Python. Exploratory Data analysis is the first step of data science which is used to describe the data to identify underlying patterns and test hypothesis using a range of statistical and visualization techniques. The whole process of data cleaning, identifying relationships and data visualizations will be covered. The python packages that will be used are Numpy, Pandas, Matplotlib and Seaborn."
   ]
  },
  {
   "cell_type": "code",
   "execution_count": null,
   "metadata": {},
   "outputs": [],
   "source": []
  },
  {
   "cell_type": "markdown",
   "metadata": {},
   "source": [
    "# Numpy"
   ]
  },
  {
   "cell_type": "markdown",
   "metadata": {},
   "source": [
    "NumPy (or Numpy) is a Linear Algebra Library for Python, the reason it is so important for Data Science with Python is that almost all of the libraries in the PyData Ecosystem rely on NumPy as one of their main building blocks.\n",
    "\n",
    "Numpy is also incredibly fast, as it has bindings to C libraries. For more info on why you would want to use Arrays instead of lists, check out this [StackOverflow post](http://stackoverflow.com/questions/993984/why-numpy-instead-of-python-lists)."
   ]
  },
  {
   "cell_type": "markdown",
   "metadata": {},
   "source": [
    "## Installation Instructions\n",
    "\n",
    "**If you are using the Anaconda distribution, install NumPy by going to your terminal or command prompt and typing:**\n",
    "    \n",
    "    conda install numpy\n",
    "    \n",
    "**You can install numpy through pip install using the following command in the cmd:**\n",
    "    \n",
    "    pip install numpy\n",
    "    \n",
    "    \n",
    "**If you do not have Anaconda and can not install it, please refer to [Numpy's official documentation on various installation instructions.](http://docs.scipy.org/doc/numpy-1.10.1/user/install.html)**"
   ]
  },
  {
   "cell_type": "markdown",
   "metadata": {},
   "source": [
    "## Using NumPy\n",
    "\n",
    "Once you've installed NumPy you can import it as a library:"
   ]
  },
  {
   "cell_type": "code",
   "execution_count": 1,
   "metadata": {},
   "outputs": [],
   "source": [
    "import numpy as np"
   ]
  },
  {
   "cell_type": "markdown",
   "metadata": {},
   "source": [
    "Numpy has many built-in functions and capabilities. We won't cover them all but instead we will focus on some of the most important aspects of Numpy: vectors,arrays,matrices, and number generation. Let's start by discussing arrays."
   ]
  },
  {
   "cell_type": "markdown",
   "metadata": {},
   "source": [
    "**Creating NumPy Arrays**:\n",
    "\n",
    "\n",
    "From a Python List\n",
    "We can create an array by directly converting a list or list of lists:"
   ]
  },
  {
   "cell_type": "code",
   "execution_count": 2,
   "metadata": {},
   "outputs": [
    {
     "data": {
      "text/plain": [
       "[1, 2, 3]"
      ]
     },
     "execution_count": 2,
     "metadata": {},
     "output_type": "execute_result"
    }
   ],
   "source": [
    "my_list = [1,2,3]\n",
    "my_list"
   ]
  },
  {
   "cell_type": "code",
   "execution_count": 3,
   "metadata": {},
   "outputs": [
    {
     "data": {
      "text/plain": [
       "array([1, 2, 3])"
      ]
     },
     "execution_count": 3,
     "metadata": {},
     "output_type": "execute_result"
    }
   ],
   "source": [
    "np.array(my_list)"
   ]
  },
  {
   "cell_type": "code",
   "execution_count": 4,
   "metadata": {},
   "outputs": [
    {
     "data": {
      "text/plain": [
       "[[1, 2, 3], [4, 5, 6], [7, 8, 9]]"
      ]
     },
     "execution_count": 4,
     "metadata": {},
     "output_type": "execute_result"
    }
   ],
   "source": [
    "my_matrix = [[1,2,3],[4,5,6],[7,8,9]]\n",
    "my_matrix"
   ]
  },
  {
   "cell_type": "code",
   "execution_count": 5,
   "metadata": {},
   "outputs": [
    {
     "data": {
      "text/plain": [
       "matrix([[1, 2, 3],\n",
       "        [4, 5, 6],\n",
       "        [7, 8, 9]])"
      ]
     },
     "execution_count": 5,
     "metadata": {},
     "output_type": "execute_result"
    }
   ],
   "source": [
    "np.matrix(my_matrix)"
   ]
  },
  {
   "cell_type": "code",
   "execution_count": null,
   "metadata": {},
   "outputs": [],
   "source": []
  },
  {
   "cell_type": "markdown",
   "metadata": {},
   "source": [
    "## Built in methods"
   ]
  },
  {
   "cell_type": "markdown",
   "metadata": {},
   "source": [
    "### arange\n",
    "\n",
    "Return evenly spaced values within a given interval."
   ]
  },
  {
   "cell_type": "code",
   "execution_count": 6,
   "metadata": {},
   "outputs": [
    {
     "data": {
      "text/plain": [
       "array([0, 1, 2, 3, 4, 5, 6, 7, 8, 9])"
      ]
     },
     "execution_count": 6,
     "metadata": {},
     "output_type": "execute_result"
    }
   ],
   "source": [
    "np.arange(0,10)"
   ]
  },
  {
   "cell_type": "code",
   "execution_count": 7,
   "metadata": {},
   "outputs": [
    {
     "data": {
      "text/plain": [
       "array([ 0,  2,  4,  6,  8, 10])"
      ]
     },
     "execution_count": 7,
     "metadata": {},
     "output_type": "execute_result"
    }
   ],
   "source": [
    "np.arange(0,11,2)"
   ]
  },
  {
   "cell_type": "code",
   "execution_count": null,
   "metadata": {},
   "outputs": [],
   "source": []
  },
  {
   "cell_type": "markdown",
   "metadata": {},
   "source": [
    "### linspace\n",
    "Return evenly spaced numbers over a specified interval."
   ]
  },
  {
   "cell_type": "code",
   "execution_count": 8,
   "metadata": {},
   "outputs": [
    {
     "data": {
      "text/plain": [
       "array([ 0.,  5., 10.])"
      ]
     },
     "execution_count": 8,
     "metadata": {},
     "output_type": "execute_result"
    }
   ],
   "source": [
    "np.linspace(0,10,3)"
   ]
  },
  {
   "cell_type": "code",
   "execution_count": 9,
   "metadata": {},
   "outputs": [
    {
     "data": {
      "text/plain": [
       "array([ 0.        ,  0.20408163,  0.40816327,  0.6122449 ,  0.81632653,\n",
       "        1.02040816,  1.2244898 ,  1.42857143,  1.63265306,  1.83673469,\n",
       "        2.04081633,  2.24489796,  2.44897959,  2.65306122,  2.85714286,\n",
       "        3.06122449,  3.26530612,  3.46938776,  3.67346939,  3.87755102,\n",
       "        4.08163265,  4.28571429,  4.48979592,  4.69387755,  4.89795918,\n",
       "        5.10204082,  5.30612245,  5.51020408,  5.71428571,  5.91836735,\n",
       "        6.12244898,  6.32653061,  6.53061224,  6.73469388,  6.93877551,\n",
       "        7.14285714,  7.34693878,  7.55102041,  7.75510204,  7.95918367,\n",
       "        8.16326531,  8.36734694,  8.57142857,  8.7755102 ,  8.97959184,\n",
       "        9.18367347,  9.3877551 ,  9.59183673,  9.79591837, 10.        ])"
      ]
     },
     "execution_count": 9,
     "metadata": {},
     "output_type": "execute_result"
    }
   ],
   "source": [
    "np.linspace(0,10,50)"
   ]
  },
  {
   "cell_type": "code",
   "execution_count": null,
   "metadata": {},
   "outputs": [],
   "source": []
  },
  {
   "cell_type": "markdown",
   "metadata": {},
   "source": [
    "## Random \n",
    "\n",
    "Numpy also has lots of ways to create random number arrays:\n",
    "\n",
    "### rand\n",
    "Create an array of the given shape and populate it with\n",
    "random samples from a uniform distribution\n",
    "over ``[0, 1)``."
   ]
  },
  {
   "cell_type": "code",
   "execution_count": 10,
   "metadata": {},
   "outputs": [
    {
     "data": {
      "text/plain": [
       "array([0.53036607, 0.85302179])"
      ]
     },
     "execution_count": 10,
     "metadata": {},
     "output_type": "execute_result"
    }
   ],
   "source": [
    "np.random.rand(2)"
   ]
  },
  {
   "cell_type": "code",
   "execution_count": 11,
   "metadata": {},
   "outputs": [
    {
     "data": {
      "text/plain": [
       "array([[0.94018713, 0.15475824, 0.1436752 , 0.68166641, 0.28758295],\n",
       "       [0.5090896 , 0.98101139, 0.14259025, 0.24975761, 0.63729279],\n",
       "       [0.48948188, 0.17732032, 0.40362871, 0.89691972, 0.10846837],\n",
       "       [0.0536984 , 0.30693975, 0.00573517, 0.52103559, 0.85848272],\n",
       "       [0.39689095, 0.68384737, 0.2791292 , 0.4953859 , 0.9391128 ]])"
      ]
     },
     "execution_count": 11,
     "metadata": {},
     "output_type": "execute_result"
    }
   ],
   "source": [
    "np.random.rand(5,5)"
   ]
  },
  {
   "cell_type": "markdown",
   "metadata": {},
   "source": [
    "### randn\n",
    "\n",
    "Return a sample (or samples) from the \"standard normal\" distribution. Unlike rand which is uniform:"
   ]
  },
  {
   "cell_type": "code",
   "execution_count": 12,
   "metadata": {},
   "outputs": [
    {
     "data": {
      "text/plain": [
       "array([0.87371934, 0.68870768])"
      ]
     },
     "execution_count": 12,
     "metadata": {},
     "output_type": "execute_result"
    }
   ],
   "source": [
    "np.random.randn(2)"
   ]
  },
  {
   "cell_type": "code",
   "execution_count": 13,
   "metadata": {},
   "outputs": [
    {
     "data": {
      "text/plain": [
       "array([[ 1.29273472,  0.49963544, -0.76429755, -0.35456362, -0.5886196 ],\n",
       "       [ 0.34585893,  1.59067234,  1.32212471,  0.97885249,  0.29953633],\n",
       "       [-1.96752197, -1.8822629 ,  0.21973325, -0.53290048,  0.5279706 ],\n",
       "       [-0.23438431, -0.95404301, -0.10637351,  0.77193498,  0.58533371],\n",
       "       [-0.85948268,  0.70238549,  0.58583647, -0.66557615, -0.85805118]])"
      ]
     },
     "execution_count": 13,
     "metadata": {},
     "output_type": "execute_result"
    }
   ],
   "source": [
    "np.random.randn(5,5)"
   ]
  },
  {
   "cell_type": "code",
   "execution_count": null,
   "metadata": {},
   "outputs": [],
   "source": []
  },
  {
   "cell_type": "markdown",
   "metadata": {},
   "source": [
    "### randint\n",
    "Return random integers from `low` (inclusive) to `high` (exclusive)."
   ]
  },
  {
   "cell_type": "code",
   "execution_count": 14,
   "metadata": {},
   "outputs": [
    {
     "data": {
      "text/plain": [
       "28"
      ]
     },
     "execution_count": 14,
     "metadata": {},
     "output_type": "execute_result"
    }
   ],
   "source": [
    "np.random.randint(1,100)"
   ]
  },
  {
   "cell_type": "code",
   "execution_count": 15,
   "metadata": {},
   "outputs": [
    {
     "data": {
      "text/plain": [
       "array([72, 69,  2, 68, 29, 31, 90, 60, 24, 33])"
      ]
     },
     "execution_count": 15,
     "metadata": {},
     "output_type": "execute_result"
    }
   ],
   "source": [
    "np.random.randint(1,100,10)"
   ]
  },
  {
   "cell_type": "code",
   "execution_count": null,
   "metadata": {},
   "outputs": [],
   "source": []
  },
  {
   "cell_type": "markdown",
   "metadata": {},
   "source": [
    "## Array Attributes and Methods\n",
    "\n",
    "Let's discuss some useful attributes and methods or an array:"
   ]
  },
  {
   "cell_type": "code",
   "execution_count": 16,
   "metadata": {},
   "outputs": [],
   "source": [
    "arr = np.arange(25)\n",
    "ranarr = np.random.randint(0,50,10)"
   ]
  },
  {
   "cell_type": "code",
   "execution_count": 17,
   "metadata": {},
   "outputs": [
    {
     "data": {
      "text/plain": [
       "array([ 0,  1,  2,  3,  4,  5,  6,  7,  8,  9, 10, 11, 12, 13, 14, 15, 16,\n",
       "       17, 18, 19, 20, 21, 22, 23, 24])"
      ]
     },
     "execution_count": 17,
     "metadata": {},
     "output_type": "execute_result"
    }
   ],
   "source": [
    "arr"
   ]
  },
  {
   "cell_type": "code",
   "execution_count": 18,
   "metadata": {},
   "outputs": [
    {
     "data": {
      "text/plain": [
       "array([49, 27,  9, 45, 27, 31, 20, 10, 11, 28])"
      ]
     },
     "execution_count": 18,
     "metadata": {},
     "output_type": "execute_result"
    }
   ],
   "source": [
    "ranarr"
   ]
  },
  {
   "cell_type": "code",
   "execution_count": null,
   "metadata": {},
   "outputs": [],
   "source": []
  },
  {
   "cell_type": "markdown",
   "metadata": {},
   "source": [
    "## Reshape\n",
    "Returns an array containing the same data with a new shape."
   ]
  },
  {
   "cell_type": "code",
   "execution_count": 19,
   "metadata": {},
   "outputs": [
    {
     "data": {
      "text/plain": [
       "array([[ 0,  1,  2,  3,  4],\n",
       "       [ 5,  6,  7,  8,  9],\n",
       "       [10, 11, 12, 13, 14],\n",
       "       [15, 16, 17, 18, 19],\n",
       "       [20, 21, 22, 23, 24]])"
      ]
     },
     "execution_count": 19,
     "metadata": {},
     "output_type": "execute_result"
    }
   ],
   "source": [
    "arr.reshape(5,5)"
   ]
  },
  {
   "cell_type": "code",
   "execution_count": null,
   "metadata": {},
   "outputs": [],
   "source": []
  },
  {
   "cell_type": "markdown",
   "metadata": {},
   "source": [
    "### dtype"
   ]
  },
  {
   "cell_type": "code",
   "execution_count": 20,
   "metadata": {},
   "outputs": [
    {
     "data": {
      "text/plain": [
       "dtype('int32')"
      ]
     },
     "execution_count": 20,
     "metadata": {},
     "output_type": "execute_result"
    }
   ],
   "source": [
    "arr.dtype"
   ]
  },
  {
   "cell_type": "code",
   "execution_count": null,
   "metadata": {},
   "outputs": [],
   "source": []
  },
  {
   "cell_type": "markdown",
   "metadata": {},
   "source": [
    "# NumPy Indexing and Selection\n",
    "\n",
    "In this lecture we will discuss how to select elements or groups of elements from an array."
   ]
  },
  {
   "cell_type": "code",
   "execution_count": 21,
   "metadata": {},
   "outputs": [],
   "source": [
    "#Creating sample array\n",
    "arr = np.arange(0,11)"
   ]
  },
  {
   "cell_type": "code",
   "execution_count": 22,
   "metadata": {},
   "outputs": [
    {
     "data": {
      "text/plain": [
       "array([1, 2, 3, 4])"
      ]
     },
     "execution_count": 22,
     "metadata": {},
     "output_type": "execute_result"
    }
   ],
   "source": [
    "#Get values in a range\n",
    "arr[1:5]"
   ]
  },
  {
   "cell_type": "code",
   "execution_count": 23,
   "metadata": {},
   "outputs": [
    {
     "data": {
      "text/plain": [
       "array([100, 100, 100, 100, 100,   5,   6,   7,   8,   9,  10])"
      ]
     },
     "execution_count": 23,
     "metadata": {},
     "output_type": "execute_result"
    }
   ],
   "source": [
    "#Setting a value with index range (Broadcasting)\n",
    "arr[0:5]=100\n",
    "\n",
    "#Show\n",
    "arr"
   ]
  },
  {
   "cell_type": "code",
   "execution_count": 24,
   "metadata": {},
   "outputs": [],
   "source": [
    "arr = np.arange(0,11)"
   ]
  },
  {
   "cell_type": "code",
   "execution_count": 25,
   "metadata": {},
   "outputs": [
    {
     "data": {
      "text/plain": [
       "array([0, 1, 2, 3, 4, 5])"
      ]
     },
     "execution_count": 25,
     "metadata": {},
     "output_type": "execute_result"
    }
   ],
   "source": [
    "#Important notes on Slices\n",
    "slice_of_arr = arr[0:6]\n",
    "\n",
    "#Show slice\n",
    "slice_of_arr"
   ]
  },
  {
   "cell_type": "code",
   "execution_count": 26,
   "metadata": {},
   "outputs": [
    {
     "data": {
      "text/plain": [
       "array([99, 99, 99, 99, 99, 99])"
      ]
     },
     "execution_count": 26,
     "metadata": {},
     "output_type": "execute_result"
    }
   ],
   "source": [
    "#Change Slice\n",
    "slice_of_arr[:]=99\n",
    "\n",
    "#Show Slice again\n",
    "slice_of_arr"
   ]
  },
  {
   "cell_type": "code",
   "execution_count": 27,
   "metadata": {},
   "outputs": [
    {
     "data": {
      "text/plain": [
       "array([99, 99, 99, 99, 99, 99,  6,  7,  8,  9, 10])"
      ]
     },
     "execution_count": 27,
     "metadata": {},
     "output_type": "execute_result"
    }
   ],
   "source": [
    "arr"
   ]
  },
  {
   "cell_type": "markdown",
   "metadata": {},
   "source": [
    "Data isn't copied! Its a view of the original array. This avoids memory problems."
   ]
  },
  {
   "cell_type": "code",
   "execution_count": null,
   "metadata": {},
   "outputs": [],
   "source": []
  },
  {
   "cell_type": "markdown",
   "metadata": {},
   "source": [
    "## Indexing a 2D array (matrices)\n",
    "\n",
    "The general format is **arr_2d[row][col]** or **arr_2d[row,col]**."
   ]
  },
  {
   "cell_type": "code",
   "execution_count": 28,
   "metadata": {},
   "outputs": [
    {
     "data": {
      "text/plain": [
       "array([[ 5, 10, 15],\n",
       "       [20, 25, 30],\n",
       "       [35, 40, 45]])"
      ]
     },
     "execution_count": 28,
     "metadata": {},
     "output_type": "execute_result"
    }
   ],
   "source": [
    "arr_2d = np.array(([5,10,15],[20,25,30],[35,40,45]))\n",
    "\n",
    "#Show\n",
    "arr_2d"
   ]
  },
  {
   "cell_type": "code",
   "execution_count": 29,
   "metadata": {},
   "outputs": [
    {
     "data": {
      "text/plain": [
       "30"
      ]
     },
     "execution_count": 29,
     "metadata": {},
     "output_type": "execute_result"
    }
   ],
   "source": [
    "#Row\n",
    "arr_2d[1]\n",
    "\n",
    "#Individual Element\n",
    "arr_2d[1][2]"
   ]
  },
  {
   "cell_type": "code",
   "execution_count": 30,
   "metadata": {},
   "outputs": [
    {
     "data": {
      "text/plain": [
       "array([[10, 15],\n",
       "       [25, 30]])"
      ]
     },
     "execution_count": 30,
     "metadata": {},
     "output_type": "execute_result"
    }
   ],
   "source": [
    "# 2D array slicing\n",
    "\n",
    "#Shape (2,2) from top right corner\n",
    "arr_2d[:2,1:]"
   ]
  },
  {
   "cell_type": "code",
   "execution_count": null,
   "metadata": {},
   "outputs": [],
   "source": []
  },
  {
   "cell_type": "markdown",
   "metadata": {},
   "source": [
    "## Selection\n",
    "\n",
    "Let's briefly go over how to use brackets for selection based off of comparison operators."
   ]
  },
  {
   "cell_type": "code",
   "execution_count": 31,
   "metadata": {},
   "outputs": [
    {
     "data": {
      "text/plain": [
       "array([ 1,  2,  3,  4,  5,  6,  7,  8,  9, 10])"
      ]
     },
     "execution_count": 31,
     "metadata": {},
     "output_type": "execute_result"
    }
   ],
   "source": [
    "arr = np.arange(1,11)\n",
    "arr"
   ]
  },
  {
   "cell_type": "code",
   "execution_count": 32,
   "metadata": {},
   "outputs": [
    {
     "data": {
      "text/plain": [
       "array([False, False, False, False,  True,  True,  True,  True,  True,\n",
       "        True])"
      ]
     },
     "execution_count": 32,
     "metadata": {},
     "output_type": "execute_result"
    }
   ],
   "source": [
    "arr > 4"
   ]
  },
  {
   "cell_type": "code",
   "execution_count": 33,
   "metadata": {},
   "outputs": [
    {
     "data": {
      "text/plain": [
       "array([False, False, False, False,  True,  True,  True,  True,  True,\n",
       "        True])"
      ]
     },
     "execution_count": 33,
     "metadata": {},
     "output_type": "execute_result"
    }
   ],
   "source": [
    "bool_arr = arr>4\n",
    "bool_arr"
   ]
  },
  {
   "cell_type": "code",
   "execution_count": 34,
   "metadata": {},
   "outputs": [
    {
     "data": {
      "text/plain": [
       "array([ 5,  6,  7,  8,  9, 10])"
      ]
     },
     "execution_count": 34,
     "metadata": {},
     "output_type": "execute_result"
    }
   ],
   "source": [
    "arr[bool_arr]\n"
   ]
  },
  {
   "cell_type": "code",
   "execution_count": 35,
   "metadata": {},
   "outputs": [
    {
     "data": {
      "text/plain": [
       "array([ 3,  4,  5,  6,  7,  8,  9, 10])"
      ]
     },
     "execution_count": 35,
     "metadata": {},
     "output_type": "execute_result"
    }
   ],
   "source": [
    "arr[arr>2]"
   ]
  },
  {
   "cell_type": "code",
   "execution_count": null,
   "metadata": {},
   "outputs": [],
   "source": []
  },
  {
   "cell_type": "markdown",
   "metadata": {},
   "source": [
    "# NumPy Operations"
   ]
  },
  {
   "cell_type": "code",
   "execution_count": 36,
   "metadata": {},
   "outputs": [],
   "source": [
    "arr = np.arange(0,10)"
   ]
  },
  {
   "cell_type": "code",
   "execution_count": 37,
   "metadata": {},
   "outputs": [
    {
     "data": {
      "text/plain": [
       "array([ 0,  2,  4,  6,  8, 10, 12, 14, 16, 18])"
      ]
     },
     "execution_count": 37,
     "metadata": {},
     "output_type": "execute_result"
    }
   ],
   "source": [
    "arr+arr"
   ]
  },
  {
   "cell_type": "code",
   "execution_count": 38,
   "metadata": {},
   "outputs": [
    {
     "data": {
      "text/plain": [
       "array([0, 0, 0, 0, 0, 0, 0, 0, 0, 0])"
      ]
     },
     "execution_count": 38,
     "metadata": {},
     "output_type": "execute_result"
    }
   ],
   "source": [
    "arr-arr"
   ]
  },
  {
   "cell_type": "code",
   "execution_count": 39,
   "metadata": {},
   "outputs": [
    {
     "data": {
      "text/plain": [
       "array([ 0,  1,  4,  9, 16, 25, 36, 49, 64, 81])"
      ]
     },
     "execution_count": 39,
     "metadata": {},
     "output_type": "execute_result"
    }
   ],
   "source": [
    "arr*arr"
   ]
  },
  {
   "cell_type": "code",
   "execution_count": 40,
   "metadata": {},
   "outputs": [
    {
     "name": "stderr",
     "output_type": "stream",
     "text": [
      "c:\\users\\aishi\\appdata\\local\\programs\\python\\python37\\lib\\site-packages\\ipykernel_launcher.py:3: RuntimeWarning: invalid value encountered in true_divide\n",
      "  This is separate from the ipykernel package so we can avoid doing imports until\n"
     ]
    },
    {
     "data": {
      "text/plain": [
       "array([nan,  1.,  1.,  1.,  1.,  1.,  1.,  1.,  1.,  1.])"
      ]
     },
     "execution_count": 40,
     "metadata": {},
     "output_type": "execute_result"
    }
   ],
   "source": [
    "# Warning on division by zero, but not an error!\n",
    "# Just replaced with nan\n",
    "arr/arr"
   ]
  },
  {
   "cell_type": "code",
   "execution_count": 41,
   "metadata": {},
   "outputs": [
    {
     "name": "stderr",
     "output_type": "stream",
     "text": [
      "c:\\users\\aishi\\appdata\\local\\programs\\python\\python37\\lib\\site-packages\\ipykernel_launcher.py:2: RuntimeWarning: divide by zero encountered in true_divide\n",
      "  \n"
     ]
    },
    {
     "data": {
      "text/plain": [
       "array([       inf, 1.        , 0.5       , 0.33333333, 0.25      ,\n",
       "       0.2       , 0.16666667, 0.14285714, 0.125     , 0.11111111])"
      ]
     },
     "execution_count": 41,
     "metadata": {},
     "output_type": "execute_result"
    }
   ],
   "source": [
    "# Also warning, but not an error instead infinity\n",
    "1/arr"
   ]
  },
  {
   "cell_type": "code",
   "execution_count": 42,
   "metadata": {},
   "outputs": [
    {
     "data": {
      "text/plain": [
       "array([  0,   1,   8,  27,  64, 125, 216, 343, 512, 729], dtype=int32)"
      ]
     },
     "execution_count": 42,
     "metadata": {},
     "output_type": "execute_result"
    }
   ],
   "source": [
    "arr**3"
   ]
  },
  {
   "cell_type": "code",
   "execution_count": null,
   "metadata": {},
   "outputs": [],
   "source": []
  },
  {
   "cell_type": "markdown",
   "metadata": {},
   "source": [
    "## Universal Array Functions\n",
    "\n",
    "Numpy comes with many [universal array functions](http://docs.scipy.org/doc/numpy/reference/ufuncs.html), which are essentially just mathematical operations you can use to perform the operation across the array. Let's show some common ones:"
   ]
  },
  {
   "cell_type": "code",
   "execution_count": 43,
   "metadata": {},
   "outputs": [
    {
     "data": {
      "text/plain": [
       "array([0.        , 1.        , 1.41421356, 1.73205081, 2.        ,\n",
       "       2.23606798, 2.44948974, 2.64575131, 2.82842712, 3.        ])"
      ]
     },
     "execution_count": 43,
     "metadata": {},
     "output_type": "execute_result"
    }
   ],
   "source": [
    "#Taking Square Roots\n",
    "np.sqrt(arr)"
   ]
  },
  {
   "cell_type": "code",
   "execution_count": 44,
   "metadata": {},
   "outputs": [
    {
     "data": {
      "text/plain": [
       "array([1.00000000e+00, 2.71828183e+00, 7.38905610e+00, 2.00855369e+01,\n",
       "       5.45981500e+01, 1.48413159e+02, 4.03428793e+02, 1.09663316e+03,\n",
       "       2.98095799e+03, 8.10308393e+03])"
      ]
     },
     "execution_count": 44,
     "metadata": {},
     "output_type": "execute_result"
    }
   ],
   "source": [
    "#Calcualting exponential (e^)\n",
    "np.exp(arr)"
   ]
  },
  {
   "cell_type": "code",
   "execution_count": 45,
   "metadata": {},
   "outputs": [
    {
     "data": {
      "text/plain": [
       "9"
      ]
     },
     "execution_count": 45,
     "metadata": {},
     "output_type": "execute_result"
    }
   ],
   "source": [
    "np.max(arr) "
   ]
  },
  {
   "cell_type": "code",
   "execution_count": 46,
   "metadata": {},
   "outputs": [
    {
     "data": {
      "text/plain": [
       "array([ 0.        ,  0.84147098,  0.90929743,  0.14112001, -0.7568025 ,\n",
       "       -0.95892427, -0.2794155 ,  0.6569866 ,  0.98935825,  0.41211849])"
      ]
     },
     "execution_count": 46,
     "metadata": {},
     "output_type": "execute_result"
    }
   ],
   "source": [
    "np.sin(arr)"
   ]
  },
  {
   "cell_type": "code",
   "execution_count": 47,
   "metadata": {},
   "outputs": [
    {
     "name": "stderr",
     "output_type": "stream",
     "text": [
      "c:\\users\\aishi\\appdata\\local\\programs\\python\\python37\\lib\\site-packages\\ipykernel_launcher.py:1: RuntimeWarning: divide by zero encountered in log\n",
      "  \"\"\"Entry point for launching an IPython kernel.\n"
     ]
    },
    {
     "data": {
      "text/plain": [
       "array([      -inf, 0.        , 0.69314718, 1.09861229, 1.38629436,\n",
       "       1.60943791, 1.79175947, 1.94591015, 2.07944154, 2.19722458])"
      ]
     },
     "execution_count": 47,
     "metadata": {},
     "output_type": "execute_result"
    }
   ],
   "source": [
    "np.log(arr)"
   ]
  },
  {
   "cell_type": "code",
   "execution_count": null,
   "metadata": {},
   "outputs": [],
   "source": []
  },
  {
   "cell_type": "code",
   "execution_count": null,
   "metadata": {},
   "outputs": [],
   "source": []
  },
  {
   "cell_type": "markdown",
   "metadata": {},
   "source": [
    "# Introduction to Pandas\n",
    "\n",
    "In this section of the course we will learn how to use pandas for data analysis. You can think of pandas as an extremely powerful version of Excel, with a lot more features."
   ]
  },
  {
   "cell_type": "code",
   "execution_count": 48,
   "metadata": {},
   "outputs": [],
   "source": [
    "import pandas as pd"
   ]
  },
  {
   "cell_type": "markdown",
   "metadata": {},
   "source": [
    "## Series"
   ]
  },
  {
   "cell_type": "markdown",
   "metadata": {},
   "source": [
    "### Creating a Series\n",
    "\n",
    "You can convert a list,numpy array, or dictionary to a Series:"
   ]
  },
  {
   "cell_type": "code",
   "execution_count": 49,
   "metadata": {},
   "outputs": [],
   "source": [
    "labels = ['a','b','c']\n",
    "my_list = [10,20,30]\n",
    "arr = np.array([10,20,30])\n",
    "d = {'a':10,'b':20,'c':30}"
   ]
  },
  {
   "cell_type": "code",
   "execution_count": 50,
   "metadata": {},
   "outputs": [
    {
     "data": {
      "text/plain": [
       "0    10\n",
       "1    20\n",
       "2    30\n",
       "dtype: int64"
      ]
     },
     "execution_count": 50,
     "metadata": {},
     "output_type": "execute_result"
    }
   ],
   "source": [
    "pd.Series(data=my_list)"
   ]
  },
  {
   "cell_type": "code",
   "execution_count": 51,
   "metadata": {},
   "outputs": [
    {
     "data": {
      "text/plain": [
       "a    10\n",
       "b    20\n",
       "c    30\n",
       "dtype: int64"
      ]
     },
     "execution_count": 51,
     "metadata": {},
     "output_type": "execute_result"
    }
   ],
   "source": [
    "pd.Series(data=my_list,index=labels)"
   ]
  },
  {
   "cell_type": "code",
   "execution_count": 52,
   "metadata": {},
   "outputs": [
    {
     "data": {
      "text/plain": [
       "a    10\n",
       "b    20\n",
       "c    30\n",
       "dtype: int32"
      ]
     },
     "execution_count": 52,
     "metadata": {},
     "output_type": "execute_result"
    }
   ],
   "source": [
    "pd.Series(arr,labels)"
   ]
  },
  {
   "cell_type": "code",
   "execution_count": 53,
   "metadata": {},
   "outputs": [
    {
     "data": {
      "text/plain": [
       "a    10\n",
       "b    20\n",
       "c    30\n",
       "dtype: int64"
      ]
     },
     "execution_count": 53,
     "metadata": {},
     "output_type": "execute_result"
    }
   ],
   "source": [
    "pd.Series(d)"
   ]
  },
  {
   "cell_type": "code",
   "execution_count": 54,
   "metadata": {},
   "outputs": [
    {
     "data": {
      "text/plain": [
       "0      <built-in function sum>\n",
       "1    <built-in function print>\n",
       "2      <built-in function len>\n",
       "dtype: object"
      ]
     },
     "execution_count": 54,
     "metadata": {},
     "output_type": "execute_result"
    }
   ],
   "source": [
    "# Even functions (although unlikely that you will use this)\n",
    "pd.Series([sum,print,len])"
   ]
  },
  {
   "cell_type": "code",
   "execution_count": null,
   "metadata": {},
   "outputs": [],
   "source": []
  },
  {
   "cell_type": "markdown",
   "metadata": {},
   "source": [
    "### Using an Index\n",
    "\n",
    "The key to using a Series is understanding its index. Pandas makes use of these index names or numbers by allowing for fast look ups of information (works like a hash table or dictionary)."
   ]
  },
  {
   "cell_type": "code",
   "execution_count": 55,
   "metadata": {},
   "outputs": [],
   "source": [
    "ser1 = pd.Series([1,2,3,4],index = ['Pikachu', 'Squirtle','Charmander', 'Bulbasaur'])    "
   ]
  },
  {
   "cell_type": "code",
   "execution_count": 56,
   "metadata": {},
   "outputs": [
    {
     "data": {
      "text/plain": [
       "1"
      ]
     },
     "execution_count": 56,
     "metadata": {},
     "output_type": "execute_result"
    }
   ],
   "source": [
    "ser1['Pikachu']"
   ]
  },
  {
   "cell_type": "code",
   "execution_count": null,
   "metadata": {},
   "outputs": [],
   "source": []
  },
  {
   "cell_type": "markdown",
   "metadata": {},
   "source": [
    "## DataFrames\n",
    "\n",
    "We can think of a DataFrame as a bunch of Series objects put together to share the same index.It \n",
    "is a an array of individual entries. Each entry has a unique row number and column number. This implies that it is analogous to a table in excel, or a 2-D array in general."
   ]
  },
  {
   "cell_type": "code",
   "execution_count": 59,
   "metadata": {},
   "outputs": [],
   "source": [
    "from numpy.random import randn\n",
    "np.random.seed(120) #The seed ensures the random g=numbers generated by our machines are the same."
   ]
  },
  {
   "cell_type": "code",
   "execution_count": 60,
   "metadata": {},
   "outputs": [],
   "source": [
    "df = pd.DataFrame(randn(5,4),index='A B C D E'.split(),columns='W X Y Z'.split())"
   ]
  },
  {
   "cell_type": "code",
   "execution_count": 61,
   "metadata": {},
   "outputs": [
    {
     "data": {
      "text/html": [
       "<div>\n",
       "<style scoped>\n",
       "    .dataframe tbody tr th:only-of-type {\n",
       "        vertical-align: middle;\n",
       "    }\n",
       "\n",
       "    .dataframe tbody tr th {\n",
       "        vertical-align: top;\n",
       "    }\n",
       "\n",
       "    .dataframe thead th {\n",
       "        text-align: right;\n",
       "    }\n",
       "</style>\n",
       "<table border=\"1\" class=\"dataframe\">\n",
       "  <thead>\n",
       "    <tr style=\"text-align: right;\">\n",
       "      <th></th>\n",
       "      <th>W</th>\n",
       "      <th>X</th>\n",
       "      <th>Y</th>\n",
       "      <th>Z</th>\n",
       "    </tr>\n",
       "  </thead>\n",
       "  <tbody>\n",
       "    <tr>\n",
       "      <th>A</th>\n",
       "      <td>0.147450</td>\n",
       "      <td>2.024840</td>\n",
       "      <td>-0.426880</td>\n",
       "      <td>2.310290</td>\n",
       "    </tr>\n",
       "    <tr>\n",
       "      <th>B</th>\n",
       "      <td>0.628660</td>\n",
       "      <td>-0.055411</td>\n",
       "      <td>-1.319863</td>\n",
       "      <td>0.405072</td>\n",
       "    </tr>\n",
       "    <tr>\n",
       "      <th>C</th>\n",
       "      <td>-0.185505</td>\n",
       "      <td>-0.101672</td>\n",
       "      <td>1.328715</td>\n",
       "      <td>0.892572</td>\n",
       "    </tr>\n",
       "    <tr>\n",
       "      <th>D</th>\n",
       "      <td>0.417491</td>\n",
       "      <td>-0.137413</td>\n",
       "      <td>-0.769679</td>\n",
       "      <td>0.078486</td>\n",
       "    </tr>\n",
       "    <tr>\n",
       "      <th>E</th>\n",
       "      <td>-0.348003</td>\n",
       "      <td>-0.427171</td>\n",
       "      <td>3.208293</td>\n",
       "      <td>0.501048</td>\n",
       "    </tr>\n",
       "  </tbody>\n",
       "</table>\n",
       "</div>"
      ],
      "text/plain": [
       "          W         X         Y         Z\n",
       "A  0.147450  2.024840 -0.426880  2.310290\n",
       "B  0.628660 -0.055411 -1.319863  0.405072\n",
       "C -0.185505 -0.101672  1.328715  0.892572\n",
       "D  0.417491 -0.137413 -0.769679  0.078486\n",
       "E -0.348003 -0.427171  3.208293  0.501048"
      ]
     },
     "execution_count": 61,
     "metadata": {},
     "output_type": "execute_result"
    }
   ],
   "source": [
    "df"
   ]
  },
  {
   "cell_type": "code",
   "execution_count": null,
   "metadata": {},
   "outputs": [],
   "source": []
  },
  {
   "cell_type": "markdown",
   "metadata": {},
   "source": [
    "## Data input\n",
    "\n",
    "More generally, we won't be making our own dataframes. Instead, we will have to take dataframes as input and work on them.\n",
    "\n",
    "We will be using the Dragon Ball dataset from kaggle. The link for the kaggle site is: https://www.kaggle.com/shiddharthsaran/dragon-ball-dataset/downloads/dragon-ball-dataset.zip/1"
   ]
  },
  {
   "cell_type": "code",
   "execution_count": 90,
   "metadata": {},
   "outputs": [],
   "source": [
    "dbz = pd.read_csv(\"Dragon_Ball_Data_Set.csv\")"
   ]
  },
  {
   "cell_type": "code",
   "execution_count": 91,
   "metadata": {},
   "outputs": [
    {
     "data": {
      "text/html": [
       "<div>\n",
       "<style scoped>\n",
       "    .dataframe tbody tr th:only-of-type {\n",
       "        vertical-align: middle;\n",
       "    }\n",
       "\n",
       "    .dataframe tbody tr th {\n",
       "        vertical-align: top;\n",
       "    }\n",
       "\n",
       "    .dataframe thead th {\n",
       "        text-align: right;\n",
       "    }\n",
       "</style>\n",
       "<table border=\"1\" class=\"dataframe\">\n",
       "  <thead>\n",
       "    <tr style=\"text-align: right;\">\n",
       "      <th></th>\n",
       "      <th>Character</th>\n",
       "      <th>Power_Level</th>\n",
       "      <th>Saga_or_Movie</th>\n",
       "      <th>Dragon_Ball_Series</th>\n",
       "    </tr>\n",
       "  </thead>\n",
       "  <tbody>\n",
       "    <tr>\n",
       "      <th>0</th>\n",
       "      <td>Goku</td>\n",
       "      <td>10</td>\n",
       "      <td>Emperor Pilaf Saga</td>\n",
       "      <td>Dragon Ball</td>\n",
       "    </tr>\n",
       "    <tr>\n",
       "      <th>1</th>\n",
       "      <td>Bulma</td>\n",
       "      <td>1.5</td>\n",
       "      <td>Emperor Pilaf Saga</td>\n",
       "      <td>Dragon Ball</td>\n",
       "    </tr>\n",
       "    <tr>\n",
       "      <th>2</th>\n",
       "      <td>Bear Thief</td>\n",
       "      <td>7</td>\n",
       "      <td>Emperor Pilaf Saga</td>\n",
       "      <td>Dragon Ball</td>\n",
       "    </tr>\n",
       "    <tr>\n",
       "      <th>3</th>\n",
       "      <td>Master Roshi</td>\n",
       "      <td>30</td>\n",
       "      <td>Emperor Pilaf Saga</td>\n",
       "      <td>Dragon Ball</td>\n",
       "    </tr>\n",
       "    <tr>\n",
       "      <th>4</th>\n",
       "      <td>Oolong</td>\n",
       "      <td>5</td>\n",
       "      <td>Emperor Pilaf Saga</td>\n",
       "      <td>Dragon Ball</td>\n",
       "    </tr>\n",
       "  </tbody>\n",
       "</table>\n",
       "</div>"
      ],
      "text/plain": [
       "      Character Power_Level       Saga_or_Movie Dragon_Ball_Series\n",
       "0          Goku          10  Emperor Pilaf Saga        Dragon Ball\n",
       "1         Bulma         1.5  Emperor Pilaf Saga        Dragon Ball\n",
       "2    Bear Thief           7  Emperor Pilaf Saga        Dragon Ball\n",
       "3  Master Roshi          30  Emperor Pilaf Saga        Dragon Ball\n",
       "4        Oolong           5  Emperor Pilaf Saga        Dragon Ball"
      ]
     },
     "execution_count": 91,
     "metadata": {},
     "output_type": "execute_result"
    }
   ],
   "source": [
    "dbz.head()"
   ]
  },
  {
   "cell_type": "code",
   "execution_count": 92,
   "metadata": {},
   "outputs": [
    {
     "name": "stdout",
     "output_type": "stream",
     "text": [
      "<class 'pandas.core.frame.DataFrame'>\n",
      "RangeIndex: 1244 entries, 0 to 1243\n",
      "Data columns (total 4 columns):\n",
      "Character             1244 non-null object\n",
      "Power_Level           1244 non-null object\n",
      "Saga_or_Movie         1244 non-null object\n",
      "Dragon_Ball_Series    1244 non-null object\n",
      "dtypes: object(4)\n",
      "memory usage: 39.0+ KB\n"
     ]
    }
   ],
   "source": [
    "dbz.info()"
   ]
  },
  {
   "cell_type": "code",
   "execution_count": null,
   "metadata": {},
   "outputs": [],
   "source": []
  },
  {
   "cell_type": "markdown",
   "metadata": {},
   "source": [
    "## Selection and Indexing"
   ]
  },
  {
   "cell_type": "code",
   "execution_count": 94,
   "metadata": {},
   "outputs": [
    {
     "data": {
      "text/plain": [
       "0                                      Goku\n",
       "1                                     Bulma\n",
       "2                                Bear Thief\n",
       "3                              Master Roshi\n",
       "4                                    Oolong\n",
       "5                                    Yamcha\n",
       "6                                      Puar\n",
       "7                             Goku (hungry)\n",
       "8                                   Ox-King\n",
       "9                                   Chi-chi\n",
       "10                 Master Roshi (Max power)\n",
       "11      Master Roshi's Max Power Kamehameha\n",
       "12                        Goku's Kamehameha\n",
       "13                           Great Ape Goku\n",
       "14                                     Goku\n",
       "15                             Master Roshi\n",
       "16                                  Krillin\n",
       "17                             Launch (bad)\n",
       "18                            Launch (good)\n",
       "19           Goku (Master Roshi's training)\n",
       "20        Krillin (Master Roshi's training)\n",
       "21                              Jackie Chun\n",
       "22                                   Yamcha\n",
       "23                                Bacterian\n",
       "24                                      Nam\n",
       "25                                   Ranfan\n",
       "26                                    Giran\n",
       "27                      Goku (tail regrown)\n",
       "28                          Great Aper Goku\n",
       "29                  Jackie Chun (Max power)\n",
       "                       ...                 \n",
       "1214                                Piccolo\n",
       "1215                             Android 18\n",
       "1216                                Krillin\n",
       "1217                                 Yamcha\n",
       "1218                                   Tien\n",
       "1219                                 Trunks\n",
       "1220                                  Goten\n",
       "1221                                  Videl\n",
       "1222                               Good Buu\n",
       "1223                                  Gohan\n",
       "1224                         Ultimate Gohan\n",
       "1225                                Gotenks\n",
       "1226                         Gotenks (MSSJ)\n",
       "1227                          Vegeta (SSJ2)\n",
       "1228                   Vegeta (SSJ2, angry)\n",
       "1229                                 Vegeta\n",
       "1230                           Goten (MSSJ)\n",
       "1231                          Trunks (MSSJ)\n",
       "1232                           Gohan (SSJ2)\n",
       "1233           Goku (MSSJ, energy gathered)\n",
       "1234                       Goku (SSJG, 80%)\n",
       "1235                                 Beerus\n",
       "1236                Goku (SSJG, full power)\n",
       "1237                           Beerus (70%)\n",
       "1238            Goku (base with SSJG power)\n",
       "1239          Goku (MSSJ with SSJG's power)\n",
       "1240                            Goku (SSJG)\n",
       "1241                                   Goku\n",
       "1242       Beerus (full power, never shown)\n",
       "1243         Whis (full power, never shown)\n",
       "Name: Character, Length: 1244, dtype: object"
      ]
     },
     "execution_count": 94,
     "metadata": {},
     "output_type": "execute_result"
    }
   ],
   "source": [
    "dbz['Character']"
   ]
  },
  {
   "cell_type": "code",
   "execution_count": 95,
   "metadata": {},
   "outputs": [
    {
     "data": {
      "text/html": [
       "<div>\n",
       "<style scoped>\n",
       "    .dataframe tbody tr th:only-of-type {\n",
       "        vertical-align: middle;\n",
       "    }\n",
       "\n",
       "    .dataframe tbody tr th {\n",
       "        vertical-align: top;\n",
       "    }\n",
       "\n",
       "    .dataframe thead th {\n",
       "        text-align: right;\n",
       "    }\n",
       "</style>\n",
       "<table border=\"1\" class=\"dataframe\">\n",
       "  <thead>\n",
       "    <tr style=\"text-align: right;\">\n",
       "      <th></th>\n",
       "      <th>Character</th>\n",
       "      <th>Power_Level</th>\n",
       "    </tr>\n",
       "  </thead>\n",
       "  <tbody>\n",
       "    <tr>\n",
       "      <th>0</th>\n",
       "      <td>Goku</td>\n",
       "      <td>10</td>\n",
       "    </tr>\n",
       "    <tr>\n",
       "      <th>1</th>\n",
       "      <td>Bulma</td>\n",
       "      <td>1.5</td>\n",
       "    </tr>\n",
       "    <tr>\n",
       "      <th>2</th>\n",
       "      <td>Bear Thief</td>\n",
       "      <td>7</td>\n",
       "    </tr>\n",
       "    <tr>\n",
       "      <th>3</th>\n",
       "      <td>Master Roshi</td>\n",
       "      <td>30</td>\n",
       "    </tr>\n",
       "    <tr>\n",
       "      <th>4</th>\n",
       "      <td>Oolong</td>\n",
       "      <td>5</td>\n",
       "    </tr>\n",
       "    <tr>\n",
       "      <th>5</th>\n",
       "      <td>Yamcha</td>\n",
       "      <td>8.5</td>\n",
       "    </tr>\n",
       "    <tr>\n",
       "      <th>6</th>\n",
       "      <td>Puar</td>\n",
       "      <td>4</td>\n",
       "    </tr>\n",
       "    <tr>\n",
       "      <th>7</th>\n",
       "      <td>Goku (hungry)</td>\n",
       "      <td>8</td>\n",
       "    </tr>\n",
       "    <tr>\n",
       "      <th>8</th>\n",
       "      <td>Ox-King</td>\n",
       "      <td>25</td>\n",
       "    </tr>\n",
       "    <tr>\n",
       "      <th>9</th>\n",
       "      <td>Chi-chi</td>\n",
       "      <td>6</td>\n",
       "    </tr>\n",
       "    <tr>\n",
       "      <th>10</th>\n",
       "      <td>Master Roshi (Max power)</td>\n",
       "      <td>100</td>\n",
       "    </tr>\n",
       "    <tr>\n",
       "      <th>11</th>\n",
       "      <td>Master Roshi's Max Power Kamehameha</td>\n",
       "      <td>180</td>\n",
       "    </tr>\n",
       "    <tr>\n",
       "      <th>12</th>\n",
       "      <td>Goku's Kamehameha</td>\n",
       "      <td>12</td>\n",
       "    </tr>\n",
       "    <tr>\n",
       "      <th>13</th>\n",
       "      <td>Great Ape Goku</td>\n",
       "      <td>100</td>\n",
       "    </tr>\n",
       "    <tr>\n",
       "      <th>14</th>\n",
       "      <td>Goku</td>\n",
       "      <td>28</td>\n",
       "    </tr>\n",
       "    <tr>\n",
       "      <th>15</th>\n",
       "      <td>Master Roshi</td>\n",
       "      <td>40</td>\n",
       "    </tr>\n",
       "    <tr>\n",
       "      <th>16</th>\n",
       "      <td>Krillin</td>\n",
       "      <td>9</td>\n",
       "    </tr>\n",
       "    <tr>\n",
       "      <th>17</th>\n",
       "      <td>Launch (bad)</td>\n",
       "      <td>7</td>\n",
       "    </tr>\n",
       "    <tr>\n",
       "      <th>18</th>\n",
       "      <td>Launch (good)</td>\n",
       "      <td>4</td>\n",
       "    </tr>\n",
       "    <tr>\n",
       "      <th>19</th>\n",
       "      <td>Goku (Master Roshi's training)</td>\n",
       "      <td>37</td>\n",
       "    </tr>\n",
       "    <tr>\n",
       "      <th>20</th>\n",
       "      <td>Krillin (Master Roshi's training)</td>\n",
       "      <td>24</td>\n",
       "    </tr>\n",
       "    <tr>\n",
       "      <th>21</th>\n",
       "      <td>Jackie Chun</td>\n",
       "      <td>50</td>\n",
       "    </tr>\n",
       "    <tr>\n",
       "      <th>22</th>\n",
       "      <td>Yamcha</td>\n",
       "      <td>21</td>\n",
       "    </tr>\n",
       "    <tr>\n",
       "      <th>23</th>\n",
       "      <td>Bacterian</td>\n",
       "      <td>8</td>\n",
       "    </tr>\n",
       "    <tr>\n",
       "      <th>24</th>\n",
       "      <td>Nam</td>\n",
       "      <td>20</td>\n",
       "    </tr>\n",
       "    <tr>\n",
       "      <th>25</th>\n",
       "      <td>Ranfan</td>\n",
       "      <td>14</td>\n",
       "    </tr>\n",
       "    <tr>\n",
       "      <th>26</th>\n",
       "      <td>Giran</td>\n",
       "      <td>33</td>\n",
       "    </tr>\n",
       "    <tr>\n",
       "      <th>27</th>\n",
       "      <td>Goku (tail regrown)</td>\n",
       "      <td>57</td>\n",
       "    </tr>\n",
       "    <tr>\n",
       "      <th>28</th>\n",
       "      <td>Great Aper Goku</td>\n",
       "      <td>570</td>\n",
       "    </tr>\n",
       "    <tr>\n",
       "      <th>29</th>\n",
       "      <td>Jackie Chun (Max power)</td>\n",
       "      <td>250</td>\n",
       "    </tr>\n",
       "    <tr>\n",
       "      <th>...</th>\n",
       "      <td>...</td>\n",
       "      <td>...</td>\n",
       "    </tr>\n",
       "    <tr>\n",
       "      <th>1214</th>\n",
       "      <td>Piccolo</td>\n",
       "      <td>72,000,000,000</td>\n",
       "    </tr>\n",
       "    <tr>\n",
       "      <th>1215</th>\n",
       "      <td>Android 18</td>\n",
       "      <td>8,000,000,000</td>\n",
       "    </tr>\n",
       "    <tr>\n",
       "      <th>1216</th>\n",
       "      <td>Krillin</td>\n",
       "      <td>4,000,000</td>\n",
       "    </tr>\n",
       "    <tr>\n",
       "      <th>1217</th>\n",
       "      <td>Yamcha</td>\n",
       "      <td>2,000,000</td>\n",
       "    </tr>\n",
       "    <tr>\n",
       "      <th>1218</th>\n",
       "      <td>Tien</td>\n",
       "      <td>5,000,000</td>\n",
       "    </tr>\n",
       "    <tr>\n",
       "      <th>1219</th>\n",
       "      <td>Trunks</td>\n",
       "      <td>80,00,000</td>\n",
       "    </tr>\n",
       "    <tr>\n",
       "      <th>1220</th>\n",
       "      <td>Goten</td>\n",
       "      <td>78,400,000</td>\n",
       "    </tr>\n",
       "    <tr>\n",
       "      <th>1221</th>\n",
       "      <td>Videl</td>\n",
       "      <td>5</td>\n",
       "    </tr>\n",
       "    <tr>\n",
       "      <th>1222</th>\n",
       "      <td>Good Buu</td>\n",
       "      <td>400,000,000,000</td>\n",
       "    </tr>\n",
       "    <tr>\n",
       "      <th>1223</th>\n",
       "      <td>Gohan</td>\n",
       "      <td>40,000,000,000</td>\n",
       "    </tr>\n",
       "    <tr>\n",
       "      <th>1224</th>\n",
       "      <td>Ultimate Gohan</td>\n",
       "      <td>4,000,000,000,000</td>\n",
       "    </tr>\n",
       "    <tr>\n",
       "      <th>1225</th>\n",
       "      <td>Gotenks</td>\n",
       "      <td>15,840,000,000</td>\n",
       "    </tr>\n",
       "    <tr>\n",
       "      <th>1226</th>\n",
       "      <td>Gotenks (MSSJ)</td>\n",
       "      <td>792,000,000,000</td>\n",
       "    </tr>\n",
       "    <tr>\n",
       "      <th>1227</th>\n",
       "      <td>Vegeta (SSJ2)</td>\n",
       "      <td>1,120,000,000,000</td>\n",
       "    </tr>\n",
       "    <tr>\n",
       "      <th>1228</th>\n",
       "      <td>Vegeta (SSJ2, angry)</td>\n",
       "      <td>8,960,000,000,000</td>\n",
       "    </tr>\n",
       "    <tr>\n",
       "      <th>1229</th>\n",
       "      <td>Vegeta</td>\n",
       "      <td>22,400,000,000</td>\n",
       "    </tr>\n",
       "    <tr>\n",
       "      <th>1230</th>\n",
       "      <td>Goten (MSSJ)</td>\n",
       "      <td>3,920,000,000</td>\n",
       "    </tr>\n",
       "    <tr>\n",
       "      <th>1231</th>\n",
       "      <td>Trunks (MSSJ)</td>\n",
       "      <td>4,000,000,000</td>\n",
       "    </tr>\n",
       "    <tr>\n",
       "      <th>1232</th>\n",
       "      <td>Gohan (SSJ2)</td>\n",
       "      <td>4,000,000,000,000</td>\n",
       "    </tr>\n",
       "    <tr>\n",
       "      <th>1233</th>\n",
       "      <td>Goku (MSSJ, energy gathered)</td>\n",
       "      <td>2,000,000,000,000</td>\n",
       "    </tr>\n",
       "    <tr>\n",
       "      <th>1234</th>\n",
       "      <td>Goku (SSJG, 80%)</td>\n",
       "      <td>195,000,000,000,000</td>\n",
       "    </tr>\n",
       "    <tr>\n",
       "      <th>1235</th>\n",
       "      <td>Beerus</td>\n",
       "      <td>200,000,000,000,000</td>\n",
       "    </tr>\n",
       "    <tr>\n",
       "      <th>1236</th>\n",
       "      <td>Goku (SSJG, full power)</td>\n",
       "      <td>224,000,000,000,000</td>\n",
       "    </tr>\n",
       "    <tr>\n",
       "      <th>1237</th>\n",
       "      <td>Beerus (70%)</td>\n",
       "      <td>640,000,000,000,000</td>\n",
       "    </tr>\n",
       "    <tr>\n",
       "      <th>1238</th>\n",
       "      <td>Goku (base with SSJG power)</td>\n",
       "      <td>448,000,000,000</td>\n",
       "    </tr>\n",
       "    <tr>\n",
       "      <th>1239</th>\n",
       "      <td>Goku (MSSJ with SSJG's power)</td>\n",
       "      <td>22,400,000,000,000</td>\n",
       "    </tr>\n",
       "    <tr>\n",
       "      <th>1240</th>\n",
       "      <td>Goku (SSJG)</td>\n",
       "      <td>224,000,000,000,000</td>\n",
       "    </tr>\n",
       "    <tr>\n",
       "      <th>1241</th>\n",
       "      <td>Goku</td>\n",
       "      <td>44,800,000,000</td>\n",
       "    </tr>\n",
       "    <tr>\n",
       "      <th>1242</th>\n",
       "      <td>Beerus (full power, never shown)</td>\n",
       "      <td>896,000,000,000,000</td>\n",
       "    </tr>\n",
       "    <tr>\n",
       "      <th>1243</th>\n",
       "      <td>Whis (full power, never shown)</td>\n",
       "      <td>4,480,000,000,000,000</td>\n",
       "    </tr>\n",
       "  </tbody>\n",
       "</table>\n",
       "<p>1244 rows × 2 columns</p>\n",
       "</div>"
      ],
      "text/plain": [
       "                                Character            Power_Level\n",
       "0                                    Goku                     10\n",
       "1                                   Bulma                    1.5\n",
       "2                              Bear Thief                      7\n",
       "3                            Master Roshi                     30\n",
       "4                                  Oolong                      5\n",
       "5                                  Yamcha                    8.5\n",
       "6                                    Puar                      4\n",
       "7                           Goku (hungry)                      8\n",
       "8                                 Ox-King                     25\n",
       "9                                 Chi-chi                      6\n",
       "10               Master Roshi (Max power)                    100\n",
       "11    Master Roshi's Max Power Kamehameha                    180\n",
       "12                      Goku's Kamehameha                     12\n",
       "13                         Great Ape Goku                    100\n",
       "14                                   Goku                     28\n",
       "15                           Master Roshi                     40\n",
       "16                                Krillin                      9\n",
       "17                           Launch (bad)                      7\n",
       "18                          Launch (good)                      4\n",
       "19         Goku (Master Roshi's training)                     37\n",
       "20      Krillin (Master Roshi's training)                     24\n",
       "21                            Jackie Chun                     50\n",
       "22                                 Yamcha                     21\n",
       "23                              Bacterian                      8\n",
       "24                                    Nam                     20\n",
       "25                                 Ranfan                     14\n",
       "26                                  Giran                     33\n",
       "27                    Goku (tail regrown)                     57\n",
       "28                        Great Aper Goku                    570\n",
       "29                Jackie Chun (Max power)                    250\n",
       "...                                   ...                    ...\n",
       "1214                              Piccolo         72,000,000,000\n",
       "1215                           Android 18          8,000,000,000\n",
       "1216                              Krillin              4,000,000\n",
       "1217                               Yamcha              2,000,000\n",
       "1218                                 Tien              5,000,000\n",
       "1219                               Trunks              80,00,000\n",
       "1220                                Goten             78,400,000\n",
       "1221                                Videl                      5\n",
       "1222                             Good Buu        400,000,000,000\n",
       "1223                                Gohan         40,000,000,000\n",
       "1224                       Ultimate Gohan      4,000,000,000,000\n",
       "1225                              Gotenks         15,840,000,000\n",
       "1226                       Gotenks (MSSJ)        792,000,000,000\n",
       "1227                        Vegeta (SSJ2)      1,120,000,000,000\n",
       "1228                 Vegeta (SSJ2, angry)      8,960,000,000,000\n",
       "1229                               Vegeta         22,400,000,000\n",
       "1230                         Goten (MSSJ)          3,920,000,000\n",
       "1231                        Trunks (MSSJ)          4,000,000,000\n",
       "1232                         Gohan (SSJ2)      4,000,000,000,000\n",
       "1233         Goku (MSSJ, energy gathered)      2,000,000,000,000\n",
       "1234                     Goku (SSJG, 80%)    195,000,000,000,000\n",
       "1235                               Beerus    200,000,000,000,000\n",
       "1236              Goku (SSJG, full power)    224,000,000,000,000\n",
       "1237                         Beerus (70%)    640,000,000,000,000\n",
       "1238          Goku (base with SSJG power)        448,000,000,000\n",
       "1239        Goku (MSSJ with SSJG's power)     22,400,000,000,000\n",
       "1240                          Goku (SSJG)    224,000,000,000,000\n",
       "1241                                 Goku         44,800,000,000\n",
       "1242     Beerus (full power, never shown)    896,000,000,000,000\n",
       "1243       Whis (full power, never shown)  4,480,000,000,000,000\n",
       "\n",
       "[1244 rows x 2 columns]"
      ]
     },
     "execution_count": 95,
     "metadata": {},
     "output_type": "execute_result"
    }
   ],
   "source": [
    "#Pass a list of column names:\n",
    "dbz[['Character','Power_Level']]"
   ]
  },
  {
   "cell_type": "markdown",
   "metadata": {},
   "source": [
    "Yes, this is very useful, but pandas provides us with two more powerful operators which help us with indexing and slicing.\n",
    "\n",
    "loc - label based selection\n",
    "\n",
    "iloc - index based selection"
   ]
  },
  {
   "cell_type": "code",
   "execution_count": 96,
   "metadata": {},
   "outputs": [
    {
     "data": {
      "text/plain": [
       "Character                         Oolong\n",
       "Power_Level                            5\n",
       "Saga_or_Movie         Emperor Pilaf Saga\n",
       "Dragon_Ball_Series           Dragon Ball\n",
       "Name: 4, dtype: object"
      ]
     },
     "execution_count": 96,
     "metadata": {},
     "output_type": "execute_result"
    }
   ],
   "source": [
    "dbz.iloc[4]"
   ]
  },
  {
   "cell_type": "code",
   "execution_count": 182,
   "metadata": {},
   "outputs": [],
   "source": [
    "dbz_new = dbz[:50]"
   ]
  },
  {
   "cell_type": "code",
   "execution_count": 183,
   "metadata": {},
   "outputs": [
    {
     "data": {
      "text/html": [
       "<div>\n",
       "<style scoped>\n",
       "    .dataframe tbody tr th:only-of-type {\n",
       "        vertical-align: middle;\n",
       "    }\n",
       "\n",
       "    .dataframe tbody tr th {\n",
       "        vertical-align: top;\n",
       "    }\n",
       "\n",
       "    .dataframe thead th {\n",
       "        text-align: right;\n",
       "    }\n",
       "</style>\n",
       "<table border=\"1\" class=\"dataframe\">\n",
       "  <thead>\n",
       "    <tr style=\"text-align: right;\">\n",
       "      <th></th>\n",
       "      <th>Character</th>\n",
       "      <th>Power_Level</th>\n",
       "      <th>Saga_or_Movie</th>\n",
       "      <th>Dragon_Ball_Series</th>\n",
       "    </tr>\n",
       "  </thead>\n",
       "  <tbody>\n",
       "    <tr>\n",
       "      <th>0</th>\n",
       "      <td>Goku</td>\n",
       "      <td>10</td>\n",
       "      <td>Emperor Pilaf Saga</td>\n",
       "      <td>Dragon Ball</td>\n",
       "    </tr>\n",
       "    <tr>\n",
       "      <th>1</th>\n",
       "      <td>Bulma</td>\n",
       "      <td>1.5</td>\n",
       "      <td>Emperor Pilaf Saga</td>\n",
       "      <td>Dragon Ball</td>\n",
       "    </tr>\n",
       "    <tr>\n",
       "      <th>2</th>\n",
       "      <td>Bear Thief</td>\n",
       "      <td>7</td>\n",
       "      <td>Emperor Pilaf Saga</td>\n",
       "      <td>Dragon Ball</td>\n",
       "    </tr>\n",
       "    <tr>\n",
       "      <th>3</th>\n",
       "      <td>Master Roshi</td>\n",
       "      <td>30</td>\n",
       "      <td>Emperor Pilaf Saga</td>\n",
       "      <td>Dragon Ball</td>\n",
       "    </tr>\n",
       "    <tr>\n",
       "      <th>4</th>\n",
       "      <td>Oolong</td>\n",
       "      <td>5</td>\n",
       "      <td>Emperor Pilaf Saga</td>\n",
       "      <td>Dragon Ball</td>\n",
       "    </tr>\n",
       "    <tr>\n",
       "      <th>5</th>\n",
       "      <td>Yamcha</td>\n",
       "      <td>8.5</td>\n",
       "      <td>Emperor Pilaf Saga</td>\n",
       "      <td>Dragon Ball</td>\n",
       "    </tr>\n",
       "    <tr>\n",
       "      <th>6</th>\n",
       "      <td>Puar</td>\n",
       "      <td>4</td>\n",
       "      <td>Emperor Pilaf Saga</td>\n",
       "      <td>Dragon Ball</td>\n",
       "    </tr>\n",
       "    <tr>\n",
       "      <th>7</th>\n",
       "      <td>Goku (hungry)</td>\n",
       "      <td>8</td>\n",
       "      <td>Emperor Pilaf Saga</td>\n",
       "      <td>Dragon Ball</td>\n",
       "    </tr>\n",
       "    <tr>\n",
       "      <th>8</th>\n",
       "      <td>Ox-King</td>\n",
       "      <td>25</td>\n",
       "      <td>Emperor Pilaf Saga</td>\n",
       "      <td>Dragon Ball</td>\n",
       "    </tr>\n",
       "    <tr>\n",
       "      <th>9</th>\n",
       "      <td>Chi-chi</td>\n",
       "      <td>6</td>\n",
       "      <td>Emperor Pilaf Saga</td>\n",
       "      <td>Dragon Ball</td>\n",
       "    </tr>\n",
       "    <tr>\n",
       "      <th>10</th>\n",
       "      <td>Master Roshi (Max power)</td>\n",
       "      <td>100</td>\n",
       "      <td>Emperor Pilaf Saga</td>\n",
       "      <td>Dragon Ball</td>\n",
       "    </tr>\n",
       "    <tr>\n",
       "      <th>11</th>\n",
       "      <td>Master Roshi's Max Power Kamehameha</td>\n",
       "      <td>180</td>\n",
       "      <td>Emperor Pilaf Saga</td>\n",
       "      <td>Dragon Ball</td>\n",
       "    </tr>\n",
       "    <tr>\n",
       "      <th>12</th>\n",
       "      <td>Goku's Kamehameha</td>\n",
       "      <td>12</td>\n",
       "      <td>Emperor Pilaf Saga</td>\n",
       "      <td>Dragon Ball</td>\n",
       "    </tr>\n",
       "    <tr>\n",
       "      <th>13</th>\n",
       "      <td>Great Ape Goku</td>\n",
       "      <td>100</td>\n",
       "      <td>Emperor Pilaf Saga</td>\n",
       "      <td>Dragon Ball</td>\n",
       "    </tr>\n",
       "    <tr>\n",
       "      <th>14</th>\n",
       "      <td>Goku</td>\n",
       "      <td>28</td>\n",
       "      <td>Tournament Saga</td>\n",
       "      <td>Dragon Ball</td>\n",
       "    </tr>\n",
       "    <tr>\n",
       "      <th>15</th>\n",
       "      <td>Master Roshi</td>\n",
       "      <td>40</td>\n",
       "      <td>Tournament Saga</td>\n",
       "      <td>Dragon Ball</td>\n",
       "    </tr>\n",
       "    <tr>\n",
       "      <th>16</th>\n",
       "      <td>Krillin</td>\n",
       "      <td>9</td>\n",
       "      <td>Tournament Saga</td>\n",
       "      <td>Dragon Ball</td>\n",
       "    </tr>\n",
       "    <tr>\n",
       "      <th>17</th>\n",
       "      <td>Launch (bad)</td>\n",
       "      <td>7</td>\n",
       "      <td>Tournament Saga</td>\n",
       "      <td>Dragon Ball</td>\n",
       "    </tr>\n",
       "    <tr>\n",
       "      <th>18</th>\n",
       "      <td>Launch (good)</td>\n",
       "      <td>4</td>\n",
       "      <td>Tournament Saga</td>\n",
       "      <td>Dragon Ball</td>\n",
       "    </tr>\n",
       "    <tr>\n",
       "      <th>19</th>\n",
       "      <td>Goku (Master Roshi's training)</td>\n",
       "      <td>37</td>\n",
       "      <td>Tournament Saga</td>\n",
       "      <td>Dragon Ball</td>\n",
       "    </tr>\n",
       "    <tr>\n",
       "      <th>20</th>\n",
       "      <td>Krillin (Master Roshi's training)</td>\n",
       "      <td>24</td>\n",
       "      <td>Tournament Saga</td>\n",
       "      <td>Dragon Ball</td>\n",
       "    </tr>\n",
       "    <tr>\n",
       "      <th>21</th>\n",
       "      <td>Jackie Chun</td>\n",
       "      <td>50</td>\n",
       "      <td>Tournament Saga</td>\n",
       "      <td>Dragon Ball</td>\n",
       "    </tr>\n",
       "    <tr>\n",
       "      <th>22</th>\n",
       "      <td>Yamcha</td>\n",
       "      <td>21</td>\n",
       "      <td>Tournament Saga</td>\n",
       "      <td>Dragon Ball</td>\n",
       "    </tr>\n",
       "    <tr>\n",
       "      <th>23</th>\n",
       "      <td>Bacterian</td>\n",
       "      <td>8</td>\n",
       "      <td>Tournament Saga</td>\n",
       "      <td>Dragon Ball</td>\n",
       "    </tr>\n",
       "    <tr>\n",
       "      <th>24</th>\n",
       "      <td>Nam</td>\n",
       "      <td>20</td>\n",
       "      <td>Tournament Saga</td>\n",
       "      <td>Dragon Ball</td>\n",
       "    </tr>\n",
       "    <tr>\n",
       "      <th>25</th>\n",
       "      <td>Ranfan</td>\n",
       "      <td>14</td>\n",
       "      <td>Tournament Saga</td>\n",
       "      <td>Dragon Ball</td>\n",
       "    </tr>\n",
       "    <tr>\n",
       "      <th>26</th>\n",
       "      <td>Giran</td>\n",
       "      <td>33</td>\n",
       "      <td>Tournament Saga</td>\n",
       "      <td>Dragon Ball</td>\n",
       "    </tr>\n",
       "    <tr>\n",
       "      <th>27</th>\n",
       "      <td>Goku (tail regrown)</td>\n",
       "      <td>57</td>\n",
       "      <td>Tournament Saga</td>\n",
       "      <td>Dragon Ball</td>\n",
       "    </tr>\n",
       "    <tr>\n",
       "      <th>28</th>\n",
       "      <td>Great Aper Goku</td>\n",
       "      <td>570</td>\n",
       "      <td>Tournament Saga</td>\n",
       "      <td>Dragon Ball</td>\n",
       "    </tr>\n",
       "    <tr>\n",
       "      <th>29</th>\n",
       "      <td>Jackie Chun (Max power)</td>\n",
       "      <td>250</td>\n",
       "      <td>Tournament Saga</td>\n",
       "      <td>Dragon Ball</td>\n",
       "    </tr>\n",
       "    <tr>\n",
       "      <th>30</th>\n",
       "      <td>Jackie Chun's Max power Kamehamha</td>\n",
       "      <td>330</td>\n",
       "      <td>Tournament Saga</td>\n",
       "      <td>Dragon Ball</td>\n",
       "    </tr>\n",
       "    <tr>\n",
       "      <th>31</th>\n",
       "      <td>Goku (weakened)</td>\n",
       "      <td>24</td>\n",
       "      <td>Tournament Saga</td>\n",
       "      <td>Dragon Ball</td>\n",
       "    </tr>\n",
       "    <tr>\n",
       "      <th>32</th>\n",
       "      <td>Jackie Chun (weakened)</td>\n",
       "      <td>45</td>\n",
       "      <td>Tournament Saga</td>\n",
       "      <td>Dragon Ball</td>\n",
       "    </tr>\n",
       "    <tr>\n",
       "      <th>33</th>\n",
       "      <td>Goku</td>\n",
       "      <td>66</td>\n",
       "      <td>Red Ribbon Army Saga</td>\n",
       "      <td>Dragon Ball</td>\n",
       "    </tr>\n",
       "    <tr>\n",
       "      <th>34</th>\n",
       "      <td>Colonel Silver</td>\n",
       "      <td>20</td>\n",
       "      <td>Red Ribbon Army Saga</td>\n",
       "      <td>Dragon Ball</td>\n",
       "    </tr>\n",
       "    <tr>\n",
       "      <th>35</th>\n",
       "      <td>Commander Red</td>\n",
       "      <td>5</td>\n",
       "      <td>Red Ribbon Army Saga</td>\n",
       "      <td>Dragon Ball</td>\n",
       "    </tr>\n",
       "    <tr>\n",
       "      <th>36</th>\n",
       "      <td>Major Metarillitron</td>\n",
       "      <td>55</td>\n",
       "      <td>Red Ribbon Army Saga</td>\n",
       "      <td>Dragon Ball</td>\n",
       "    </tr>\n",
       "    <tr>\n",
       "      <th>37</th>\n",
       "      <td>Goku's Kamehameha</td>\n",
       "      <td>90</td>\n",
       "      <td>Red Ribbon Army Saga</td>\n",
       "      <td>Dragon Ball</td>\n",
       "    </tr>\n",
       "    <tr>\n",
       "      <th>38</th>\n",
       "      <td>Ninja Murasaki</td>\n",
       "      <td>40</td>\n",
       "      <td>Red Ribbon Army Saga</td>\n",
       "      <td>Dragon Ball</td>\n",
       "    </tr>\n",
       "    <tr>\n",
       "      <th>39</th>\n",
       "      <td>Android 8</td>\n",
       "      <td>67</td>\n",
       "      <td>Red Ribbon Army Saga</td>\n",
       "      <td>Dragon Ball</td>\n",
       "    </tr>\n",
       "    <tr>\n",
       "      <th>40</th>\n",
       "      <td>Buyon</td>\n",
       "      <td>58</td>\n",
       "      <td>Red Ribbon Army Saga</td>\n",
       "      <td>Dragon Ball</td>\n",
       "    </tr>\n",
       "    <tr>\n",
       "      <th>41</th>\n",
       "      <td>General White</td>\n",
       "      <td>50</td>\n",
       "      <td>Red Ribbon Army Saga</td>\n",
       "      <td>Dragon Ball</td>\n",
       "    </tr>\n",
       "    <tr>\n",
       "      <th>42</th>\n",
       "      <td>General Blue</td>\n",
       "      <td>72</td>\n",
       "      <td>Red Ribbon Army Saga</td>\n",
       "      <td>Dragon Ball</td>\n",
       "    </tr>\n",
       "    <tr>\n",
       "      <th>43</th>\n",
       "      <td>Krillin</td>\n",
       "      <td>42</td>\n",
       "      <td>Red Ribbon Army Saga</td>\n",
       "      <td>Dragon Ball</td>\n",
       "    </tr>\n",
       "    <tr>\n",
       "      <th>44</th>\n",
       "      <td>Arale</td>\n",
       "      <td>35</td>\n",
       "      <td>Red Ribbon Army Saga</td>\n",
       "      <td>Dragon Ball</td>\n",
       "    </tr>\n",
       "    <tr>\n",
       "      <th>45</th>\n",
       "      <td>Captain Yellow</td>\n",
       "      <td>18</td>\n",
       "      <td>Red Ribbon Army Saga</td>\n",
       "      <td>Dragon Ball</td>\n",
       "    </tr>\n",
       "    <tr>\n",
       "      <th>46</th>\n",
       "      <td>Bora</td>\n",
       "      <td>34</td>\n",
       "      <td>Red Ribbon Army Saga</td>\n",
       "      <td>Dragon Ball</td>\n",
       "    </tr>\n",
       "    <tr>\n",
       "      <th>47</th>\n",
       "      <td>Mercenary Tao</td>\n",
       "      <td>110</td>\n",
       "      <td>Red Ribbon Army Saga</td>\n",
       "      <td>Dragon Ball</td>\n",
       "    </tr>\n",
       "    <tr>\n",
       "      <th>48</th>\n",
       "      <td>Goku's Kamehameha</td>\n",
       "      <td>90</td>\n",
       "      <td>Red Ribbon Army Saga</td>\n",
       "      <td>Dragon Ball</td>\n",
       "    </tr>\n",
       "    <tr>\n",
       "      <th>49</th>\n",
       "      <td>Mercenary Tao's Dodon Ray</td>\n",
       "      <td>115</td>\n",
       "      <td>Red Ribbon Army Saga</td>\n",
       "      <td>Dragon Ball</td>\n",
       "    </tr>\n",
       "  </tbody>\n",
       "</table>\n",
       "</div>"
      ],
      "text/plain": [
       "                              Character Power_Level         Saga_or_Movie  \\\n",
       "0                                  Goku          10    Emperor Pilaf Saga   \n",
       "1                                 Bulma         1.5    Emperor Pilaf Saga   \n",
       "2                            Bear Thief           7    Emperor Pilaf Saga   \n",
       "3                          Master Roshi          30    Emperor Pilaf Saga   \n",
       "4                                Oolong           5    Emperor Pilaf Saga   \n",
       "5                                Yamcha         8.5    Emperor Pilaf Saga   \n",
       "6                                  Puar           4    Emperor Pilaf Saga   \n",
       "7                         Goku (hungry)           8    Emperor Pilaf Saga   \n",
       "8                               Ox-King          25    Emperor Pilaf Saga   \n",
       "9                               Chi-chi           6    Emperor Pilaf Saga   \n",
       "10             Master Roshi (Max power)         100    Emperor Pilaf Saga   \n",
       "11  Master Roshi's Max Power Kamehameha         180    Emperor Pilaf Saga   \n",
       "12                    Goku's Kamehameha          12    Emperor Pilaf Saga   \n",
       "13                       Great Ape Goku         100    Emperor Pilaf Saga   \n",
       "14                                 Goku          28       Tournament Saga   \n",
       "15                         Master Roshi          40       Tournament Saga   \n",
       "16                              Krillin           9       Tournament Saga   \n",
       "17                         Launch (bad)           7       Tournament Saga   \n",
       "18                        Launch (good)           4       Tournament Saga   \n",
       "19       Goku (Master Roshi's training)          37       Tournament Saga   \n",
       "20    Krillin (Master Roshi's training)          24       Tournament Saga   \n",
       "21                          Jackie Chun          50       Tournament Saga   \n",
       "22                               Yamcha          21       Tournament Saga   \n",
       "23                            Bacterian           8       Tournament Saga   \n",
       "24                                  Nam          20       Tournament Saga   \n",
       "25                               Ranfan          14       Tournament Saga   \n",
       "26                                Giran          33       Tournament Saga   \n",
       "27                  Goku (tail regrown)          57       Tournament Saga   \n",
       "28                      Great Aper Goku         570       Tournament Saga   \n",
       "29              Jackie Chun (Max power)         250       Tournament Saga   \n",
       "30    Jackie Chun's Max power Kamehamha         330       Tournament Saga   \n",
       "31                      Goku (weakened)          24       Tournament Saga   \n",
       "32               Jackie Chun (weakened)          45       Tournament Saga   \n",
       "33                                 Goku          66  Red Ribbon Army Saga   \n",
       "34                       Colonel Silver          20  Red Ribbon Army Saga   \n",
       "35                        Commander Red           5  Red Ribbon Army Saga   \n",
       "36                  Major Metarillitron          55  Red Ribbon Army Saga   \n",
       "37                    Goku's Kamehameha          90  Red Ribbon Army Saga   \n",
       "38                       Ninja Murasaki          40  Red Ribbon Army Saga   \n",
       "39                            Android 8          67  Red Ribbon Army Saga   \n",
       "40                                Buyon          58  Red Ribbon Army Saga   \n",
       "41                        General White          50  Red Ribbon Army Saga   \n",
       "42                         General Blue          72  Red Ribbon Army Saga   \n",
       "43                              Krillin          42  Red Ribbon Army Saga   \n",
       "44                                Arale          35  Red Ribbon Army Saga   \n",
       "45                       Captain Yellow          18  Red Ribbon Army Saga   \n",
       "46                                 Bora          34  Red Ribbon Army Saga   \n",
       "47                        Mercenary Tao         110  Red Ribbon Army Saga   \n",
       "48                    Goku's Kamehameha          90  Red Ribbon Army Saga   \n",
       "49            Mercenary Tao's Dodon Ray         115  Red Ribbon Army Saga   \n",
       "\n",
       "   Dragon_Ball_Series  \n",
       "0         Dragon Ball  \n",
       "1         Dragon Ball  \n",
       "2         Dragon Ball  \n",
       "3         Dragon Ball  \n",
       "4         Dragon Ball  \n",
       "5         Dragon Ball  \n",
       "6         Dragon Ball  \n",
       "7         Dragon Ball  \n",
       "8         Dragon Ball  \n",
       "9         Dragon Ball  \n",
       "10        Dragon Ball  \n",
       "11        Dragon Ball  \n",
       "12        Dragon Ball  \n",
       "13        Dragon Ball  \n",
       "14        Dragon Ball  \n",
       "15        Dragon Ball  \n",
       "16        Dragon Ball  \n",
       "17        Dragon Ball  \n",
       "18        Dragon Ball  \n",
       "19        Dragon Ball  \n",
       "20        Dragon Ball  \n",
       "21        Dragon Ball  \n",
       "22        Dragon Ball  \n",
       "23        Dragon Ball  \n",
       "24        Dragon Ball  \n",
       "25        Dragon Ball  \n",
       "26        Dragon Ball  \n",
       "27        Dragon Ball  \n",
       "28        Dragon Ball  \n",
       "29        Dragon Ball  \n",
       "30        Dragon Ball  \n",
       "31        Dragon Ball  \n",
       "32        Dragon Ball  \n",
       "33        Dragon Ball  \n",
       "34        Dragon Ball  \n",
       "35        Dragon Ball  \n",
       "36        Dragon Ball  \n",
       "37        Dragon Ball  \n",
       "38        Dragon Ball  \n",
       "39        Dragon Ball  \n",
       "40        Dragon Ball  \n",
       "41        Dragon Ball  \n",
       "42        Dragon Ball  \n",
       "43        Dragon Ball  \n",
       "44        Dragon Ball  \n",
       "45        Dragon Ball  \n",
       "46        Dragon Ball  \n",
       "47        Dragon Ball  \n",
       "48        Dragon Ball  \n",
       "49        Dragon Ball  "
      ]
     },
     "execution_count": 183,
     "metadata": {},
     "output_type": "execute_result"
    }
   ],
   "source": [
    "dbz_new"
   ]
  },
  {
   "cell_type": "code",
   "execution_count": 184,
   "metadata": {},
   "outputs": [],
   "source": [
    "dbz_new.set_index('Character',inplace=True)"
   ]
  },
  {
   "cell_type": "code",
   "execution_count": 185,
   "metadata": {},
   "outputs": [
    {
     "data": {
      "text/html": [
       "<div>\n",
       "<style scoped>\n",
       "    .dataframe tbody tr th:only-of-type {\n",
       "        vertical-align: middle;\n",
       "    }\n",
       "\n",
       "    .dataframe tbody tr th {\n",
       "        vertical-align: top;\n",
       "    }\n",
       "\n",
       "    .dataframe thead th {\n",
       "        text-align: right;\n",
       "    }\n",
       "</style>\n",
       "<table border=\"1\" class=\"dataframe\">\n",
       "  <thead>\n",
       "    <tr style=\"text-align: right;\">\n",
       "      <th></th>\n",
       "      <th>Power_Level</th>\n",
       "      <th>Saga_or_Movie</th>\n",
       "      <th>Dragon_Ball_Series</th>\n",
       "    </tr>\n",
       "    <tr>\n",
       "      <th>Character</th>\n",
       "      <th></th>\n",
       "      <th></th>\n",
       "      <th></th>\n",
       "    </tr>\n",
       "  </thead>\n",
       "  <tbody>\n",
       "    <tr>\n",
       "      <th>Goku</th>\n",
       "      <td>10</td>\n",
       "      <td>Emperor Pilaf Saga</td>\n",
       "      <td>Dragon Ball</td>\n",
       "    </tr>\n",
       "    <tr>\n",
       "      <th>Bulma</th>\n",
       "      <td>1.5</td>\n",
       "      <td>Emperor Pilaf Saga</td>\n",
       "      <td>Dragon Ball</td>\n",
       "    </tr>\n",
       "    <tr>\n",
       "      <th>Bear Thief</th>\n",
       "      <td>7</td>\n",
       "      <td>Emperor Pilaf Saga</td>\n",
       "      <td>Dragon Ball</td>\n",
       "    </tr>\n",
       "    <tr>\n",
       "      <th>Master Roshi</th>\n",
       "      <td>30</td>\n",
       "      <td>Emperor Pilaf Saga</td>\n",
       "      <td>Dragon Ball</td>\n",
       "    </tr>\n",
       "    <tr>\n",
       "      <th>Oolong</th>\n",
       "      <td>5</td>\n",
       "      <td>Emperor Pilaf Saga</td>\n",
       "      <td>Dragon Ball</td>\n",
       "    </tr>\n",
       "    <tr>\n",
       "      <th>Yamcha</th>\n",
       "      <td>8.5</td>\n",
       "      <td>Emperor Pilaf Saga</td>\n",
       "      <td>Dragon Ball</td>\n",
       "    </tr>\n",
       "    <tr>\n",
       "      <th>Puar</th>\n",
       "      <td>4</td>\n",
       "      <td>Emperor Pilaf Saga</td>\n",
       "      <td>Dragon Ball</td>\n",
       "    </tr>\n",
       "    <tr>\n",
       "      <th>Goku (hungry)</th>\n",
       "      <td>8</td>\n",
       "      <td>Emperor Pilaf Saga</td>\n",
       "      <td>Dragon Ball</td>\n",
       "    </tr>\n",
       "    <tr>\n",
       "      <th>Ox-King</th>\n",
       "      <td>25</td>\n",
       "      <td>Emperor Pilaf Saga</td>\n",
       "      <td>Dragon Ball</td>\n",
       "    </tr>\n",
       "    <tr>\n",
       "      <th>Chi-chi</th>\n",
       "      <td>6</td>\n",
       "      <td>Emperor Pilaf Saga</td>\n",
       "      <td>Dragon Ball</td>\n",
       "    </tr>\n",
       "    <tr>\n",
       "      <th>Master Roshi (Max power)</th>\n",
       "      <td>100</td>\n",
       "      <td>Emperor Pilaf Saga</td>\n",
       "      <td>Dragon Ball</td>\n",
       "    </tr>\n",
       "    <tr>\n",
       "      <th>Master Roshi's Max Power Kamehameha</th>\n",
       "      <td>180</td>\n",
       "      <td>Emperor Pilaf Saga</td>\n",
       "      <td>Dragon Ball</td>\n",
       "    </tr>\n",
       "    <tr>\n",
       "      <th>Goku's Kamehameha</th>\n",
       "      <td>12</td>\n",
       "      <td>Emperor Pilaf Saga</td>\n",
       "      <td>Dragon Ball</td>\n",
       "    </tr>\n",
       "    <tr>\n",
       "      <th>Great Ape Goku</th>\n",
       "      <td>100</td>\n",
       "      <td>Emperor Pilaf Saga</td>\n",
       "      <td>Dragon Ball</td>\n",
       "    </tr>\n",
       "    <tr>\n",
       "      <th>Goku</th>\n",
       "      <td>28</td>\n",
       "      <td>Tournament Saga</td>\n",
       "      <td>Dragon Ball</td>\n",
       "    </tr>\n",
       "    <tr>\n",
       "      <th>Master Roshi</th>\n",
       "      <td>40</td>\n",
       "      <td>Tournament Saga</td>\n",
       "      <td>Dragon Ball</td>\n",
       "    </tr>\n",
       "    <tr>\n",
       "      <th>Krillin</th>\n",
       "      <td>9</td>\n",
       "      <td>Tournament Saga</td>\n",
       "      <td>Dragon Ball</td>\n",
       "    </tr>\n",
       "    <tr>\n",
       "      <th>Launch (bad)</th>\n",
       "      <td>7</td>\n",
       "      <td>Tournament Saga</td>\n",
       "      <td>Dragon Ball</td>\n",
       "    </tr>\n",
       "    <tr>\n",
       "      <th>Launch (good)</th>\n",
       "      <td>4</td>\n",
       "      <td>Tournament Saga</td>\n",
       "      <td>Dragon Ball</td>\n",
       "    </tr>\n",
       "    <tr>\n",
       "      <th>Goku (Master Roshi's training)</th>\n",
       "      <td>37</td>\n",
       "      <td>Tournament Saga</td>\n",
       "      <td>Dragon Ball</td>\n",
       "    </tr>\n",
       "    <tr>\n",
       "      <th>Krillin (Master Roshi's training)</th>\n",
       "      <td>24</td>\n",
       "      <td>Tournament Saga</td>\n",
       "      <td>Dragon Ball</td>\n",
       "    </tr>\n",
       "    <tr>\n",
       "      <th>Jackie Chun</th>\n",
       "      <td>50</td>\n",
       "      <td>Tournament Saga</td>\n",
       "      <td>Dragon Ball</td>\n",
       "    </tr>\n",
       "    <tr>\n",
       "      <th>Yamcha</th>\n",
       "      <td>21</td>\n",
       "      <td>Tournament Saga</td>\n",
       "      <td>Dragon Ball</td>\n",
       "    </tr>\n",
       "    <tr>\n",
       "      <th>Bacterian</th>\n",
       "      <td>8</td>\n",
       "      <td>Tournament Saga</td>\n",
       "      <td>Dragon Ball</td>\n",
       "    </tr>\n",
       "    <tr>\n",
       "      <th>Nam</th>\n",
       "      <td>20</td>\n",
       "      <td>Tournament Saga</td>\n",
       "      <td>Dragon Ball</td>\n",
       "    </tr>\n",
       "    <tr>\n",
       "      <th>Ranfan</th>\n",
       "      <td>14</td>\n",
       "      <td>Tournament Saga</td>\n",
       "      <td>Dragon Ball</td>\n",
       "    </tr>\n",
       "    <tr>\n",
       "      <th>Giran</th>\n",
       "      <td>33</td>\n",
       "      <td>Tournament Saga</td>\n",
       "      <td>Dragon Ball</td>\n",
       "    </tr>\n",
       "    <tr>\n",
       "      <th>Goku (tail regrown)</th>\n",
       "      <td>57</td>\n",
       "      <td>Tournament Saga</td>\n",
       "      <td>Dragon Ball</td>\n",
       "    </tr>\n",
       "    <tr>\n",
       "      <th>Great Aper Goku</th>\n",
       "      <td>570</td>\n",
       "      <td>Tournament Saga</td>\n",
       "      <td>Dragon Ball</td>\n",
       "    </tr>\n",
       "    <tr>\n",
       "      <th>Jackie Chun (Max power)</th>\n",
       "      <td>250</td>\n",
       "      <td>Tournament Saga</td>\n",
       "      <td>Dragon Ball</td>\n",
       "    </tr>\n",
       "    <tr>\n",
       "      <th>Jackie Chun's Max power Kamehamha</th>\n",
       "      <td>330</td>\n",
       "      <td>Tournament Saga</td>\n",
       "      <td>Dragon Ball</td>\n",
       "    </tr>\n",
       "    <tr>\n",
       "      <th>Goku (weakened)</th>\n",
       "      <td>24</td>\n",
       "      <td>Tournament Saga</td>\n",
       "      <td>Dragon Ball</td>\n",
       "    </tr>\n",
       "    <tr>\n",
       "      <th>Jackie Chun (weakened)</th>\n",
       "      <td>45</td>\n",
       "      <td>Tournament Saga</td>\n",
       "      <td>Dragon Ball</td>\n",
       "    </tr>\n",
       "    <tr>\n",
       "      <th>Goku</th>\n",
       "      <td>66</td>\n",
       "      <td>Red Ribbon Army Saga</td>\n",
       "      <td>Dragon Ball</td>\n",
       "    </tr>\n",
       "    <tr>\n",
       "      <th>Colonel Silver</th>\n",
       "      <td>20</td>\n",
       "      <td>Red Ribbon Army Saga</td>\n",
       "      <td>Dragon Ball</td>\n",
       "    </tr>\n",
       "    <tr>\n",
       "      <th>Commander Red</th>\n",
       "      <td>5</td>\n",
       "      <td>Red Ribbon Army Saga</td>\n",
       "      <td>Dragon Ball</td>\n",
       "    </tr>\n",
       "    <tr>\n",
       "      <th>Major Metarillitron</th>\n",
       "      <td>55</td>\n",
       "      <td>Red Ribbon Army Saga</td>\n",
       "      <td>Dragon Ball</td>\n",
       "    </tr>\n",
       "    <tr>\n",
       "      <th>Goku's Kamehameha</th>\n",
       "      <td>90</td>\n",
       "      <td>Red Ribbon Army Saga</td>\n",
       "      <td>Dragon Ball</td>\n",
       "    </tr>\n",
       "    <tr>\n",
       "      <th>Ninja Murasaki</th>\n",
       "      <td>40</td>\n",
       "      <td>Red Ribbon Army Saga</td>\n",
       "      <td>Dragon Ball</td>\n",
       "    </tr>\n",
       "    <tr>\n",
       "      <th>Android 8</th>\n",
       "      <td>67</td>\n",
       "      <td>Red Ribbon Army Saga</td>\n",
       "      <td>Dragon Ball</td>\n",
       "    </tr>\n",
       "    <tr>\n",
       "      <th>Buyon</th>\n",
       "      <td>58</td>\n",
       "      <td>Red Ribbon Army Saga</td>\n",
       "      <td>Dragon Ball</td>\n",
       "    </tr>\n",
       "    <tr>\n",
       "      <th>General White</th>\n",
       "      <td>50</td>\n",
       "      <td>Red Ribbon Army Saga</td>\n",
       "      <td>Dragon Ball</td>\n",
       "    </tr>\n",
       "    <tr>\n",
       "      <th>General Blue</th>\n",
       "      <td>72</td>\n",
       "      <td>Red Ribbon Army Saga</td>\n",
       "      <td>Dragon Ball</td>\n",
       "    </tr>\n",
       "    <tr>\n",
       "      <th>Krillin</th>\n",
       "      <td>42</td>\n",
       "      <td>Red Ribbon Army Saga</td>\n",
       "      <td>Dragon Ball</td>\n",
       "    </tr>\n",
       "    <tr>\n",
       "      <th>Arale</th>\n",
       "      <td>35</td>\n",
       "      <td>Red Ribbon Army Saga</td>\n",
       "      <td>Dragon Ball</td>\n",
       "    </tr>\n",
       "    <tr>\n",
       "      <th>Captain Yellow</th>\n",
       "      <td>18</td>\n",
       "      <td>Red Ribbon Army Saga</td>\n",
       "      <td>Dragon Ball</td>\n",
       "    </tr>\n",
       "    <tr>\n",
       "      <th>Bora</th>\n",
       "      <td>34</td>\n",
       "      <td>Red Ribbon Army Saga</td>\n",
       "      <td>Dragon Ball</td>\n",
       "    </tr>\n",
       "    <tr>\n",
       "      <th>Mercenary Tao</th>\n",
       "      <td>110</td>\n",
       "      <td>Red Ribbon Army Saga</td>\n",
       "      <td>Dragon Ball</td>\n",
       "    </tr>\n",
       "    <tr>\n",
       "      <th>Goku's Kamehameha</th>\n",
       "      <td>90</td>\n",
       "      <td>Red Ribbon Army Saga</td>\n",
       "      <td>Dragon Ball</td>\n",
       "    </tr>\n",
       "    <tr>\n",
       "      <th>Mercenary Tao's Dodon Ray</th>\n",
       "      <td>115</td>\n",
       "      <td>Red Ribbon Army Saga</td>\n",
       "      <td>Dragon Ball</td>\n",
       "    </tr>\n",
       "  </tbody>\n",
       "</table>\n",
       "</div>"
      ],
      "text/plain": [
       "                                    Power_Level         Saga_or_Movie  \\\n",
       "Character                                                               \n",
       "Goku                                         10    Emperor Pilaf Saga   \n",
       "Bulma                                       1.5    Emperor Pilaf Saga   \n",
       "Bear Thief                                    7    Emperor Pilaf Saga   \n",
       "Master Roshi                                 30    Emperor Pilaf Saga   \n",
       "Oolong                                        5    Emperor Pilaf Saga   \n",
       "Yamcha                                      8.5    Emperor Pilaf Saga   \n",
       "Puar                                          4    Emperor Pilaf Saga   \n",
       "Goku (hungry)                                 8    Emperor Pilaf Saga   \n",
       "Ox-King                                      25    Emperor Pilaf Saga   \n",
       "Chi-chi                                       6    Emperor Pilaf Saga   \n",
       "Master Roshi (Max power)                    100    Emperor Pilaf Saga   \n",
       "Master Roshi's Max Power Kamehameha         180    Emperor Pilaf Saga   \n",
       "Goku's Kamehameha                            12    Emperor Pilaf Saga   \n",
       "Great Ape Goku                              100    Emperor Pilaf Saga   \n",
       "Goku                                         28       Tournament Saga   \n",
       "Master Roshi                                 40       Tournament Saga   \n",
       "Krillin                                       9       Tournament Saga   \n",
       "Launch (bad)                                  7       Tournament Saga   \n",
       "Launch (good)                                 4       Tournament Saga   \n",
       "Goku (Master Roshi's training)               37       Tournament Saga   \n",
       "Krillin (Master Roshi's training)            24       Tournament Saga   \n",
       "Jackie Chun                                  50       Tournament Saga   \n",
       "Yamcha                                       21       Tournament Saga   \n",
       "Bacterian                                     8       Tournament Saga   \n",
       "Nam                                          20       Tournament Saga   \n",
       "Ranfan                                       14       Tournament Saga   \n",
       "Giran                                        33       Tournament Saga   \n",
       "Goku (tail regrown)                          57       Tournament Saga   \n",
       "Great Aper Goku                             570       Tournament Saga   \n",
       "Jackie Chun (Max power)                     250       Tournament Saga   \n",
       "Jackie Chun's Max power Kamehamha           330       Tournament Saga   \n",
       "Goku (weakened)                              24       Tournament Saga   \n",
       "Jackie Chun (weakened)                       45       Tournament Saga   \n",
       "Goku                                         66  Red Ribbon Army Saga   \n",
       "Colonel Silver                               20  Red Ribbon Army Saga   \n",
       "Commander Red                                 5  Red Ribbon Army Saga   \n",
       "Major Metarillitron                          55  Red Ribbon Army Saga   \n",
       "Goku's Kamehameha                            90  Red Ribbon Army Saga   \n",
       "Ninja Murasaki                               40  Red Ribbon Army Saga   \n",
       "Android 8                                    67  Red Ribbon Army Saga   \n",
       "Buyon                                        58  Red Ribbon Army Saga   \n",
       "General White                                50  Red Ribbon Army Saga   \n",
       "General Blue                                 72  Red Ribbon Army Saga   \n",
       "Krillin                                      42  Red Ribbon Army Saga   \n",
       "Arale                                        35  Red Ribbon Army Saga   \n",
       "Captain Yellow                               18  Red Ribbon Army Saga   \n",
       "Bora                                         34  Red Ribbon Army Saga   \n",
       "Mercenary Tao                               110  Red Ribbon Army Saga   \n",
       "Goku's Kamehameha                            90  Red Ribbon Army Saga   \n",
       "Mercenary Tao's Dodon Ray                   115  Red Ribbon Army Saga   \n",
       "\n",
       "                                    Dragon_Ball_Series  \n",
       "Character                                               \n",
       "Goku                                       Dragon Ball  \n",
       "Bulma                                      Dragon Ball  \n",
       "Bear Thief                                 Dragon Ball  \n",
       "Master Roshi                               Dragon Ball  \n",
       "Oolong                                     Dragon Ball  \n",
       "Yamcha                                     Dragon Ball  \n",
       "Puar                                       Dragon Ball  \n",
       "Goku (hungry)                              Dragon Ball  \n",
       "Ox-King                                    Dragon Ball  \n",
       "Chi-chi                                    Dragon Ball  \n",
       "Master Roshi (Max power)                   Dragon Ball  \n",
       "Master Roshi's Max Power Kamehameha        Dragon Ball  \n",
       "Goku's Kamehameha                          Dragon Ball  \n",
       "Great Ape Goku                             Dragon Ball  \n",
       "Goku                                       Dragon Ball  \n",
       "Master Roshi                               Dragon Ball  \n",
       "Krillin                                    Dragon Ball  \n",
       "Launch (bad)                               Dragon Ball  \n",
       "Launch (good)                              Dragon Ball  \n",
       "Goku (Master Roshi's training)             Dragon Ball  \n",
       "Krillin (Master Roshi's training)          Dragon Ball  \n",
       "Jackie Chun                                Dragon Ball  \n",
       "Yamcha                                     Dragon Ball  \n",
       "Bacterian                                  Dragon Ball  \n",
       "Nam                                        Dragon Ball  \n",
       "Ranfan                                     Dragon Ball  \n",
       "Giran                                      Dragon Ball  \n",
       "Goku (tail regrown)                        Dragon Ball  \n",
       "Great Aper Goku                            Dragon Ball  \n",
       "Jackie Chun (Max power)                    Dragon Ball  \n",
       "Jackie Chun's Max power Kamehamha          Dragon Ball  \n",
       "Goku (weakened)                            Dragon Ball  \n",
       "Jackie Chun (weakened)                     Dragon Ball  \n",
       "Goku                                       Dragon Ball  \n",
       "Colonel Silver                             Dragon Ball  \n",
       "Commander Red                              Dragon Ball  \n",
       "Major Metarillitron                        Dragon Ball  \n",
       "Goku's Kamehameha                          Dragon Ball  \n",
       "Ninja Murasaki                             Dragon Ball  \n",
       "Android 8                                  Dragon Ball  \n",
       "Buyon                                      Dragon Ball  \n",
       "General White                              Dragon Ball  \n",
       "General Blue                               Dragon Ball  \n",
       "Krillin                                    Dragon Ball  \n",
       "Arale                                      Dragon Ball  \n",
       "Captain Yellow                             Dragon Ball  \n",
       "Bora                                       Dragon Ball  \n",
       "Mercenary Tao                              Dragon Ball  \n",
       "Goku's Kamehameha                          Dragon Ball  \n",
       "Mercenary Tao's Dodon Ray                  Dragon Ball  "
      ]
     },
     "execution_count": 185,
     "metadata": {},
     "output_type": "execute_result"
    }
   ],
   "source": [
    "dbz_new"
   ]
  },
  {
   "cell_type": "code",
   "execution_count": 186,
   "metadata": {},
   "outputs": [
    {
     "data": {
      "text/html": [
       "<div>\n",
       "<style scoped>\n",
       "    .dataframe tbody tr th:only-of-type {\n",
       "        vertical-align: middle;\n",
       "    }\n",
       "\n",
       "    .dataframe tbody tr th {\n",
       "        vertical-align: top;\n",
       "    }\n",
       "\n",
       "    .dataframe thead th {\n",
       "        text-align: right;\n",
       "    }\n",
       "</style>\n",
       "<table border=\"1\" class=\"dataframe\">\n",
       "  <thead>\n",
       "    <tr style=\"text-align: right;\">\n",
       "      <th></th>\n",
       "      <th>Power_Level</th>\n",
       "    </tr>\n",
       "    <tr>\n",
       "      <th>Character</th>\n",
       "      <th></th>\n",
       "    </tr>\n",
       "  </thead>\n",
       "  <tbody>\n",
       "    <tr>\n",
       "      <th>Bulma</th>\n",
       "      <td>1.5</td>\n",
       "    </tr>\n",
       "    <tr>\n",
       "      <th>Yamcha</th>\n",
       "      <td>8.5</td>\n",
       "    </tr>\n",
       "    <tr>\n",
       "      <th>Yamcha</th>\n",
       "      <td>21</td>\n",
       "    </tr>\n",
       "  </tbody>\n",
       "</table>\n",
       "</div>"
      ],
      "text/plain": [
       "          Power_Level\n",
       "Character            \n",
       "Bulma             1.5\n",
       "Yamcha            8.5\n",
       "Yamcha             21"
      ]
     },
     "execution_count": 186,
     "metadata": {},
     "output_type": "execute_result"
    }
   ],
   "source": [
    "dbz_new.loc[['Bulma','Yamcha'],['Power_Level']]"
   ]
  },
  {
   "cell_type": "code",
   "execution_count": null,
   "metadata": {},
   "outputs": [],
   "source": []
  },
  {
   "cell_type": "markdown",
   "metadata": {},
   "source": [
    "### Conditional Selection"
   ]
  },
  {
   "cell_type": "code",
   "execution_count": 161,
   "metadata": {},
   "outputs": [
    {
     "data": {
      "text/plain": [
       "dtype('O')"
      ]
     },
     "execution_count": 161,
     "metadata": {},
     "output_type": "execute_result"
    }
   ],
   "source": [
    "# Finding the dtype of a variable\n",
    "dbz_new['Power_Level'].dtype"
   ]
  },
  {
   "cell_type": "code",
   "execution_count": 187,
   "metadata": {},
   "outputs": [
    {
     "name": "stderr",
     "output_type": "stream",
     "text": [
      "c:\\users\\aishi\\appdata\\local\\programs\\python\\python37\\lib\\site-packages\\ipykernel_launcher.py:2: SettingWithCopyWarning: \n",
      "A value is trying to be set on a copy of a slice from a DataFrame.\n",
      "Try using .loc[row_indexer,col_indexer] = value instead\n",
      "\n",
      "See the caveats in the documentation: http://pandas.pydata.org/pandas-docs/stable/indexing.html#indexing-view-versus-copy\n",
      "  \n"
     ]
    }
   ],
   "source": [
    "# Currently our Power_Level dataframe is an object datatype. We will convert it to a float datatype:\n",
    "dbz_new['Power_Level'] = dbz_new['Power_Level'].astype(float) "
   ]
  },
  {
   "cell_type": "code",
   "execution_count": 188,
   "metadata": {},
   "outputs": [
    {
     "data": {
      "text/html": [
       "<div>\n",
       "<style scoped>\n",
       "    .dataframe tbody tr th:only-of-type {\n",
       "        vertical-align: middle;\n",
       "    }\n",
       "\n",
       "    .dataframe tbody tr th {\n",
       "        vertical-align: top;\n",
       "    }\n",
       "\n",
       "    .dataframe thead th {\n",
       "        text-align: right;\n",
       "    }\n",
       "</style>\n",
       "<table border=\"1\" class=\"dataframe\">\n",
       "  <thead>\n",
       "    <tr style=\"text-align: right;\">\n",
       "      <th></th>\n",
       "      <th>Power_Level</th>\n",
       "      <th>Saga_or_Movie</th>\n",
       "      <th>Dragon_Ball_Series</th>\n",
       "    </tr>\n",
       "    <tr>\n",
       "      <th>Character</th>\n",
       "      <th></th>\n",
       "      <th></th>\n",
       "      <th></th>\n",
       "    </tr>\n",
       "  </thead>\n",
       "  <tbody>\n",
       "    <tr>\n",
       "      <th>Master Roshi (Max power)</th>\n",
       "      <td>100.0</td>\n",
       "      <td>Emperor Pilaf Saga</td>\n",
       "      <td>Dragon Ball</td>\n",
       "    </tr>\n",
       "    <tr>\n",
       "      <th>Master Roshi's Max Power Kamehameha</th>\n",
       "      <td>180.0</td>\n",
       "      <td>Emperor Pilaf Saga</td>\n",
       "      <td>Dragon Ball</td>\n",
       "    </tr>\n",
       "    <tr>\n",
       "      <th>Great Ape Goku</th>\n",
       "      <td>100.0</td>\n",
       "      <td>Emperor Pilaf Saga</td>\n",
       "      <td>Dragon Ball</td>\n",
       "    </tr>\n",
       "    <tr>\n",
       "      <th>Master Roshi</th>\n",
       "      <td>40.0</td>\n",
       "      <td>Tournament Saga</td>\n",
       "      <td>Dragon Ball</td>\n",
       "    </tr>\n",
       "    <tr>\n",
       "      <th>Goku (Master Roshi's training)</th>\n",
       "      <td>37.0</td>\n",
       "      <td>Tournament Saga</td>\n",
       "      <td>Dragon Ball</td>\n",
       "    </tr>\n",
       "    <tr>\n",
       "      <th>Jackie Chun</th>\n",
       "      <td>50.0</td>\n",
       "      <td>Tournament Saga</td>\n",
       "      <td>Dragon Ball</td>\n",
       "    </tr>\n",
       "    <tr>\n",
       "      <th>Giran</th>\n",
       "      <td>33.0</td>\n",
       "      <td>Tournament Saga</td>\n",
       "      <td>Dragon Ball</td>\n",
       "    </tr>\n",
       "    <tr>\n",
       "      <th>Goku (tail regrown)</th>\n",
       "      <td>57.0</td>\n",
       "      <td>Tournament Saga</td>\n",
       "      <td>Dragon Ball</td>\n",
       "    </tr>\n",
       "    <tr>\n",
       "      <th>Great Aper Goku</th>\n",
       "      <td>570.0</td>\n",
       "      <td>Tournament Saga</td>\n",
       "      <td>Dragon Ball</td>\n",
       "    </tr>\n",
       "    <tr>\n",
       "      <th>Jackie Chun (Max power)</th>\n",
       "      <td>250.0</td>\n",
       "      <td>Tournament Saga</td>\n",
       "      <td>Dragon Ball</td>\n",
       "    </tr>\n",
       "    <tr>\n",
       "      <th>Jackie Chun's Max power Kamehamha</th>\n",
       "      <td>330.0</td>\n",
       "      <td>Tournament Saga</td>\n",
       "      <td>Dragon Ball</td>\n",
       "    </tr>\n",
       "    <tr>\n",
       "      <th>Jackie Chun (weakened)</th>\n",
       "      <td>45.0</td>\n",
       "      <td>Tournament Saga</td>\n",
       "      <td>Dragon Ball</td>\n",
       "    </tr>\n",
       "    <tr>\n",
       "      <th>Goku</th>\n",
       "      <td>66.0</td>\n",
       "      <td>Red Ribbon Army Saga</td>\n",
       "      <td>Dragon Ball</td>\n",
       "    </tr>\n",
       "    <tr>\n",
       "      <th>Major Metarillitron</th>\n",
       "      <td>55.0</td>\n",
       "      <td>Red Ribbon Army Saga</td>\n",
       "      <td>Dragon Ball</td>\n",
       "    </tr>\n",
       "    <tr>\n",
       "      <th>Goku's Kamehameha</th>\n",
       "      <td>90.0</td>\n",
       "      <td>Red Ribbon Army Saga</td>\n",
       "      <td>Dragon Ball</td>\n",
       "    </tr>\n",
       "    <tr>\n",
       "      <th>Ninja Murasaki</th>\n",
       "      <td>40.0</td>\n",
       "      <td>Red Ribbon Army Saga</td>\n",
       "      <td>Dragon Ball</td>\n",
       "    </tr>\n",
       "    <tr>\n",
       "      <th>Android 8</th>\n",
       "      <td>67.0</td>\n",
       "      <td>Red Ribbon Army Saga</td>\n",
       "      <td>Dragon Ball</td>\n",
       "    </tr>\n",
       "    <tr>\n",
       "      <th>Buyon</th>\n",
       "      <td>58.0</td>\n",
       "      <td>Red Ribbon Army Saga</td>\n",
       "      <td>Dragon Ball</td>\n",
       "    </tr>\n",
       "    <tr>\n",
       "      <th>General White</th>\n",
       "      <td>50.0</td>\n",
       "      <td>Red Ribbon Army Saga</td>\n",
       "      <td>Dragon Ball</td>\n",
       "    </tr>\n",
       "    <tr>\n",
       "      <th>General Blue</th>\n",
       "      <td>72.0</td>\n",
       "      <td>Red Ribbon Army Saga</td>\n",
       "      <td>Dragon Ball</td>\n",
       "    </tr>\n",
       "    <tr>\n",
       "      <th>Krillin</th>\n",
       "      <td>42.0</td>\n",
       "      <td>Red Ribbon Army Saga</td>\n",
       "      <td>Dragon Ball</td>\n",
       "    </tr>\n",
       "    <tr>\n",
       "      <th>Arale</th>\n",
       "      <td>35.0</td>\n",
       "      <td>Red Ribbon Army Saga</td>\n",
       "      <td>Dragon Ball</td>\n",
       "    </tr>\n",
       "    <tr>\n",
       "      <th>Bora</th>\n",
       "      <td>34.0</td>\n",
       "      <td>Red Ribbon Army Saga</td>\n",
       "      <td>Dragon Ball</td>\n",
       "    </tr>\n",
       "    <tr>\n",
       "      <th>Mercenary Tao</th>\n",
       "      <td>110.0</td>\n",
       "      <td>Red Ribbon Army Saga</td>\n",
       "      <td>Dragon Ball</td>\n",
       "    </tr>\n",
       "    <tr>\n",
       "      <th>Goku's Kamehameha</th>\n",
       "      <td>90.0</td>\n",
       "      <td>Red Ribbon Army Saga</td>\n",
       "      <td>Dragon Ball</td>\n",
       "    </tr>\n",
       "    <tr>\n",
       "      <th>Mercenary Tao's Dodon Ray</th>\n",
       "      <td>115.0</td>\n",
       "      <td>Red Ribbon Army Saga</td>\n",
       "      <td>Dragon Ball</td>\n",
       "    </tr>\n",
       "  </tbody>\n",
       "</table>\n",
       "</div>"
      ],
      "text/plain": [
       "                                     Power_Level         Saga_or_Movie  \\\n",
       "Character                                                                \n",
       "Master Roshi (Max power)                   100.0    Emperor Pilaf Saga   \n",
       "Master Roshi's Max Power Kamehameha        180.0    Emperor Pilaf Saga   \n",
       "Great Ape Goku                             100.0    Emperor Pilaf Saga   \n",
       "Master Roshi                                40.0       Tournament Saga   \n",
       "Goku (Master Roshi's training)              37.0       Tournament Saga   \n",
       "Jackie Chun                                 50.0       Tournament Saga   \n",
       "Giran                                       33.0       Tournament Saga   \n",
       "Goku (tail regrown)                         57.0       Tournament Saga   \n",
       "Great Aper Goku                            570.0       Tournament Saga   \n",
       "Jackie Chun (Max power)                    250.0       Tournament Saga   \n",
       "Jackie Chun's Max power Kamehamha          330.0       Tournament Saga   \n",
       "Jackie Chun (weakened)                      45.0       Tournament Saga   \n",
       "Goku                                        66.0  Red Ribbon Army Saga   \n",
       "Major Metarillitron                         55.0  Red Ribbon Army Saga   \n",
       "Goku's Kamehameha                           90.0  Red Ribbon Army Saga   \n",
       "Ninja Murasaki                              40.0  Red Ribbon Army Saga   \n",
       "Android 8                                   67.0  Red Ribbon Army Saga   \n",
       "Buyon                                       58.0  Red Ribbon Army Saga   \n",
       "General White                               50.0  Red Ribbon Army Saga   \n",
       "General Blue                                72.0  Red Ribbon Army Saga   \n",
       "Krillin                                     42.0  Red Ribbon Army Saga   \n",
       "Arale                                       35.0  Red Ribbon Army Saga   \n",
       "Bora                                        34.0  Red Ribbon Army Saga   \n",
       "Mercenary Tao                              110.0  Red Ribbon Army Saga   \n",
       "Goku's Kamehameha                           90.0  Red Ribbon Army Saga   \n",
       "Mercenary Tao's Dodon Ray                  115.0  Red Ribbon Army Saga   \n",
       "\n",
       "                                    Dragon_Ball_Series  \n",
       "Character                                               \n",
       "Master Roshi (Max power)                   Dragon Ball  \n",
       "Master Roshi's Max Power Kamehameha        Dragon Ball  \n",
       "Great Ape Goku                             Dragon Ball  \n",
       "Master Roshi                               Dragon Ball  \n",
       "Goku (Master Roshi's training)             Dragon Ball  \n",
       "Jackie Chun                                Dragon Ball  \n",
       "Giran                                      Dragon Ball  \n",
       "Goku (tail regrown)                        Dragon Ball  \n",
       "Great Aper Goku                            Dragon Ball  \n",
       "Jackie Chun (Max power)                    Dragon Ball  \n",
       "Jackie Chun's Max power Kamehamha          Dragon Ball  \n",
       "Jackie Chun (weakened)                     Dragon Ball  \n",
       "Goku                                       Dragon Ball  \n",
       "Major Metarillitron                        Dragon Ball  \n",
       "Goku's Kamehameha                          Dragon Ball  \n",
       "Ninja Murasaki                             Dragon Ball  \n",
       "Android 8                                  Dragon Ball  \n",
       "Buyon                                      Dragon Ball  \n",
       "General White                              Dragon Ball  \n",
       "General Blue                               Dragon Ball  \n",
       "Krillin                                    Dragon Ball  \n",
       "Arale                                      Dragon Ball  \n",
       "Bora                                       Dragon Ball  \n",
       "Mercenary Tao                              Dragon Ball  \n",
       "Goku's Kamehameha                          Dragon Ball  \n",
       "Mercenary Tao's Dodon Ray                  Dragon Ball  "
      ]
     },
     "execution_count": 188,
     "metadata": {},
     "output_type": "execute_result"
    }
   ],
   "source": [
    "dbz_new[dbz_new['Power_Level']>30]"
   ]
  },
  {
   "cell_type": "code",
   "execution_count": 189,
   "metadata": {},
   "outputs": [],
   "source": [
    "# Reset the index of the dataframe\n",
    "dbz_new.reset_index(inplace=True)"
   ]
  },
  {
   "cell_type": "markdown",
   "metadata": {},
   "source": [
    "### Summarization Functions"
   ]
  },
  {
   "cell_type": "markdown",
   "metadata": {},
   "source": [
    "We will now look at a few of the important summarization functions. It can be done by describe function\n",
    "\n",
    "We will now obtain the summary of the column points.\n",
    "\n",
    "To view the frequency of the unique values, we use the value_counts function"
   ]
  },
  {
   "cell_type": "code",
   "execution_count": 190,
   "metadata": {},
   "outputs": [
    {
     "data": {
      "text/plain": [
       "count     50.000000\n",
       "mean      60.700000\n",
       "std       96.093173\n",
       "min        1.500000\n",
       "25%       10.500000\n",
       "50%       33.500000\n",
       "75%       64.000000\n",
       "max      570.000000\n",
       "Name: Power_Level, dtype: float64"
      ]
     },
     "execution_count": 190,
     "metadata": {},
     "output_type": "execute_result"
    }
   ],
   "source": [
    "dbz_new.Power_Level.describe()"
   ]
  },
  {
   "cell_type": "markdown",
   "metadata": {},
   "source": []
  },
  {
   "cell_type": "code",
   "execution_count": 191,
   "metadata": {},
   "outputs": [
    {
     "data": {
      "text/plain": [
       "count       50\n",
       "unique      43\n",
       "top       Goku\n",
       "freq         3\n",
       "Name: Character, dtype: object"
      ]
     },
     "execution_count": 191,
     "metadata": {},
     "output_type": "execute_result"
    }
   ],
   "source": [
    "# For string data:\n",
    "dbz_new['Character'].describe()"
   ]
  },
  {
   "cell_type": "markdown",
   "metadata": {},
   "source": [
    "\n",
    "To get the average points, we use the mean function.\n",
    "\n",
    "To view the unique values in the dataset, we use the unique function"
   ]
  },
  {
   "cell_type": "code",
   "execution_count": 192,
   "metadata": {},
   "outputs": [
    {
     "data": {
      "text/plain": [
       "60.7"
      ]
     },
     "execution_count": 192,
     "metadata": {},
     "output_type": "execute_result"
    }
   ],
   "source": [
    "dbz_new.Power_Level.mean()"
   ]
  },
  {
   "cell_type": "code",
   "execution_count": 193,
   "metadata": {},
   "outputs": [
    {
     "data": {
      "text/plain": [
       "array(['Goku', 'Bulma', 'Bear Thief', 'Master Roshi', 'Oolong', 'Yamcha',\n",
       "       'Puar', 'Goku (hungry)', 'Ox-King', 'Chi-chi',\n",
       "       'Master Roshi (Max power)',\n",
       "       \"Master Roshi's\\xa0Max Power Kamehameha\", \"Goku's Kamehameha\",\n",
       "       'Great Ape Goku', 'Krillin', 'Launch (bad)', 'Launch (good)',\n",
       "       \"Goku (Master Roshi's training)\",\n",
       "       \"Krillin (Master Roshi's training)\", 'Jackie Chun', 'Bacterian',\n",
       "       'Nam', 'Ranfan', 'Giran', 'Goku (tail regrown)', 'Great Aper Goku',\n",
       "       'Jackie Chun\\xa0(Max power)', \"Jackie Chun's Max power Kamehamha\",\n",
       "       'Goku (weakened)', 'Jackie Chun\\xa0(weakened)', 'Colonel Silver',\n",
       "       'Commander Red', 'Major Metarillitron', 'Ninja Murasaki',\n",
       "       'Android 8', 'Buyon', 'General White', 'General Blue', 'Arale',\n",
       "       'Captain Yellow', 'Bora', 'Mercenary Tao',\n",
       "       \"Mercenary Tao's Dodon Ray\"], dtype=object)"
      ]
     },
     "execution_count": 193,
     "metadata": {},
     "output_type": "execute_result"
    }
   ],
   "source": [
    "dbz_new.Character.unique()"
   ]
  },
  {
   "cell_type": "code",
   "execution_count": 194,
   "metadata": {},
   "outputs": [
    {
     "data": {
      "text/plain": [
       "Goku                                   3\n",
       "Goku's Kamehameha                      3\n",
       "Krillin                                2\n",
       "Yamcha                                 2\n",
       "Master Roshi                           2\n",
       "Great Aper Goku                        1\n",
       "Captain Yellow                         1\n",
       "Master Roshi's Max Power Kamehameha    1\n",
       "Ranfan                                 1\n",
       "General Blue                           1\n",
       "Commander Red                          1\n",
       "Ox-King                                1\n",
       "Ninja Murasaki                         1\n",
       "Oolong                                 1\n",
       "Master Roshi (Max power)               1\n",
       "Bear Thief                             1\n",
       "Great Ape Goku                         1\n",
       "Android 8                              1\n",
       "Launch (bad)                           1\n",
       "Giran                                  1\n",
       "Goku (Master Roshi's training)         1\n",
       "Jackie Chun's Max power Kamehamha      1\n",
       "Chi-chi                                1\n",
       "Goku (hungry)                          1\n",
       "General White                          1\n",
       "Goku (tail regrown)                    1\n",
       "Mercenary Tao's Dodon Ray              1\n",
       "Jackie Chun (Max power)                1\n",
       "Bulma                                  1\n",
       "Goku (weakened)                        1\n",
       "Launch (good)                          1\n",
       "Buyon                                  1\n",
       "Bora                                   1\n",
       "Puar                                   1\n",
       "Jackie Chun (weakened)                 1\n",
       "Bacterian                              1\n",
       "Major Metarillitron                    1\n",
       "Jackie Chun                            1\n",
       "Arale                                  1\n",
       "Mercenary Tao                          1\n",
       "Nam                                    1\n",
       "Colonel Silver                         1\n",
       "Krillin (Master Roshi's training)      1\n",
       "Name: Character, dtype: int64"
      ]
     },
     "execution_count": 194,
     "metadata": {},
     "output_type": "execute_result"
    }
   ],
   "source": [
    "dbz_new.Character.value_counts()"
   ]
  },
  {
   "cell_type": "code",
   "execution_count": null,
   "metadata": {},
   "outputs": [],
   "source": []
  },
  {
   "cell_type": "markdown",
   "metadata": {},
   "source": [
    "# Groupby\n",
    "\n",
    "The groupby method allows you to group rows of data together and call aggregate functions"
   ]
  },
  {
   "cell_type": "code",
   "execution_count": 195,
   "metadata": {},
   "outputs": [
    {
     "data": {
      "text/plain": [
       "<pandas.core.groupby.generic.DataFrameGroupBy object at 0x0000022852D876D8>"
      ]
     },
     "execution_count": 195,
     "metadata": {},
     "output_type": "execute_result"
    }
   ],
   "source": [
    "dbz_new.groupby('Saga_or_Movie')"
   ]
  },
  {
   "cell_type": "code",
   "execution_count": 196,
   "metadata": {},
   "outputs": [],
   "source": [
    "# We can save this as a new variable:\n",
    "by_saga = dbz_new.groupby('Saga_or_Movie')"
   ]
  },
  {
   "cell_type": "code",
   "execution_count": 198,
   "metadata": {},
   "outputs": [
    {
     "data": {
      "text/html": [
       "<div>\n",
       "<style scoped>\n",
       "    .dataframe tbody tr th:only-of-type {\n",
       "        vertical-align: middle;\n",
       "    }\n",
       "\n",
       "    .dataframe tbody tr th {\n",
       "        vertical-align: top;\n",
       "    }\n",
       "\n",
       "    .dataframe thead th {\n",
       "        text-align: right;\n",
       "    }\n",
       "</style>\n",
       "<table border=\"1\" class=\"dataframe\">\n",
       "  <thead>\n",
       "    <tr style=\"text-align: right;\">\n",
       "      <th></th>\n",
       "      <th>Power_Level</th>\n",
       "    </tr>\n",
       "    <tr>\n",
       "      <th>Saga_or_Movie</th>\n",
       "      <th></th>\n",
       "    </tr>\n",
       "  </thead>\n",
       "  <tbody>\n",
       "    <tr>\n",
       "      <th>Emperor Pilaf Saga</th>\n",
       "      <td>35.500000</td>\n",
       "    </tr>\n",
       "    <tr>\n",
       "      <th>Red Ribbon Army Saga</th>\n",
       "      <td>56.882353</td>\n",
       "    </tr>\n",
       "    <tr>\n",
       "      <th>Tournament Saga</th>\n",
       "      <td>82.684211</td>\n",
       "    </tr>\n",
       "  </tbody>\n",
       "</table>\n",
       "</div>"
      ],
      "text/plain": [
       "                      Power_Level\n",
       "Saga_or_Movie                    \n",
       "Emperor Pilaf Saga      35.500000\n",
       "Red Ribbon Army Saga    56.882353\n",
       "Tournament Saga         82.684211"
      ]
     },
     "execution_count": 198,
     "metadata": {},
     "output_type": "execute_result"
    }
   ],
   "source": [
    "# Now we can call aggregate methods of this variable:\n",
    "\n",
    "by_saga.mean()"
   ]
  },
  {
   "cell_type": "code",
   "execution_count": 199,
   "metadata": {},
   "outputs": [
    {
     "data": {
      "text/html": [
       "<div>\n",
       "<style scoped>\n",
       "    .dataframe tbody tr th:only-of-type {\n",
       "        vertical-align: middle;\n",
       "    }\n",
       "\n",
       "    .dataframe tbody tr th {\n",
       "        vertical-align: top;\n",
       "    }\n",
       "\n",
       "    .dataframe thead th {\n",
       "        text-align: right;\n",
       "    }\n",
       "</style>\n",
       "<table border=\"1\" class=\"dataframe\">\n",
       "  <thead>\n",
       "    <tr style=\"text-align: right;\">\n",
       "      <th></th>\n",
       "      <th>Power_Level</th>\n",
       "    </tr>\n",
       "    <tr>\n",
       "      <th>Saga_or_Movie</th>\n",
       "      <th></th>\n",
       "    </tr>\n",
       "  </thead>\n",
       "  <tbody>\n",
       "    <tr>\n",
       "      <th>Emperor Pilaf Saga</th>\n",
       "      <td>53.197744</td>\n",
       "    </tr>\n",
       "    <tr>\n",
       "      <th>Red Ribbon Army Saga</th>\n",
       "      <td>31.555274</td>\n",
       "    </tr>\n",
       "    <tr>\n",
       "      <th>Tournament Saga</th>\n",
       "      <td>145.567492</td>\n",
       "    </tr>\n",
       "  </tbody>\n",
       "</table>\n",
       "</div>"
      ],
      "text/plain": [
       "                      Power_Level\n",
       "Saga_or_Movie                    \n",
       "Emperor Pilaf Saga      53.197744\n",
       "Red Ribbon Army Saga    31.555274\n",
       "Tournament Saga        145.567492"
      ]
     },
     "execution_count": 199,
     "metadata": {},
     "output_type": "execute_result"
    }
   ],
   "source": [
    "by_saga.std()"
   ]
  },
  {
   "cell_type": "code",
   "execution_count": 200,
   "metadata": {},
   "outputs": [
    {
     "data": {
      "text/html": [
       "<div>\n",
       "<style scoped>\n",
       "    .dataframe tbody tr th:only-of-type {\n",
       "        vertical-align: middle;\n",
       "    }\n",
       "\n",
       "    .dataframe tbody tr th {\n",
       "        vertical-align: top;\n",
       "    }\n",
       "\n",
       "    .dataframe thead th {\n",
       "        text-align: right;\n",
       "    }\n",
       "</style>\n",
       "<table border=\"1\" class=\"dataframe\">\n",
       "  <thead>\n",
       "    <tr style=\"text-align: right;\">\n",
       "      <th></th>\n",
       "      <th>Character</th>\n",
       "      <th>Power_Level</th>\n",
       "      <th>Dragon_Ball_Series</th>\n",
       "    </tr>\n",
       "    <tr>\n",
       "      <th>Saga_or_Movie</th>\n",
       "      <th></th>\n",
       "      <th></th>\n",
       "      <th></th>\n",
       "    </tr>\n",
       "  </thead>\n",
       "  <tbody>\n",
       "    <tr>\n",
       "      <th>Emperor Pilaf Saga</th>\n",
       "      <td>Bear Thief</td>\n",
       "      <td>1.5</td>\n",
       "      <td>Dragon Ball</td>\n",
       "    </tr>\n",
       "    <tr>\n",
       "      <th>Red Ribbon Army Saga</th>\n",
       "      <td>Android 8</td>\n",
       "      <td>5.0</td>\n",
       "      <td>Dragon Ball</td>\n",
       "    </tr>\n",
       "    <tr>\n",
       "      <th>Tournament Saga</th>\n",
       "      <td>Bacterian</td>\n",
       "      <td>4.0</td>\n",
       "      <td>Dragon Ball</td>\n",
       "    </tr>\n",
       "  </tbody>\n",
       "</table>\n",
       "</div>"
      ],
      "text/plain": [
       "                       Character  Power_Level Dragon_Ball_Series\n",
       "Saga_or_Movie                                                   \n",
       "Emperor Pilaf Saga    Bear Thief          1.5        Dragon Ball\n",
       "Red Ribbon Army Saga   Android 8          5.0        Dragon Ball\n",
       "Tournament Saga        Bacterian          4.0        Dragon Ball"
      ]
     },
     "execution_count": 200,
     "metadata": {},
     "output_type": "execute_result"
    }
   ],
   "source": [
    "by_saga.min()"
   ]
  },
  {
   "cell_type": "code",
   "execution_count": 201,
   "metadata": {},
   "outputs": [
    {
     "data": {
      "text/html": [
       "<div>\n",
       "<style scoped>\n",
       "    .dataframe tbody tr th:only-of-type {\n",
       "        vertical-align: middle;\n",
       "    }\n",
       "\n",
       "    .dataframe tbody tr th {\n",
       "        vertical-align: top;\n",
       "    }\n",
       "\n",
       "    .dataframe thead tr th {\n",
       "        text-align: left;\n",
       "    }\n",
       "\n",
       "    .dataframe thead tr:last-of-type th {\n",
       "        text-align: right;\n",
       "    }\n",
       "</style>\n",
       "<table border=\"1\" class=\"dataframe\">\n",
       "  <thead>\n",
       "    <tr>\n",
       "      <th></th>\n",
       "      <th colspan=\"8\" halign=\"left\">Power_Level</th>\n",
       "    </tr>\n",
       "    <tr>\n",
       "      <th></th>\n",
       "      <th>count</th>\n",
       "      <th>mean</th>\n",
       "      <th>std</th>\n",
       "      <th>min</th>\n",
       "      <th>25%</th>\n",
       "      <th>50%</th>\n",
       "      <th>75%</th>\n",
       "      <th>max</th>\n",
       "    </tr>\n",
       "    <tr>\n",
       "      <th>Saga_or_Movie</th>\n",
       "      <th></th>\n",
       "      <th></th>\n",
       "      <th></th>\n",
       "      <th></th>\n",
       "      <th></th>\n",
       "      <th></th>\n",
       "      <th></th>\n",
       "      <th></th>\n",
       "    </tr>\n",
       "  </thead>\n",
       "  <tbody>\n",
       "    <tr>\n",
       "      <th>Emperor Pilaf Saga</th>\n",
       "      <td>14.0</td>\n",
       "      <td>35.500000</td>\n",
       "      <td>53.197744</td>\n",
       "      <td>1.5</td>\n",
       "      <td>6.25</td>\n",
       "      <td>9.25</td>\n",
       "      <td>28.75</td>\n",
       "      <td>180.0</td>\n",
       "    </tr>\n",
       "    <tr>\n",
       "      <th>Red Ribbon Army Saga</th>\n",
       "      <td>17.0</td>\n",
       "      <td>56.882353</td>\n",
       "      <td>31.555274</td>\n",
       "      <td>5.0</td>\n",
       "      <td>35.00</td>\n",
       "      <td>55.00</td>\n",
       "      <td>72.00</td>\n",
       "      <td>115.0</td>\n",
       "    </tr>\n",
       "    <tr>\n",
       "      <th>Tournament Saga</th>\n",
       "      <td>19.0</td>\n",
       "      <td>82.684211</td>\n",
       "      <td>145.567492</td>\n",
       "      <td>4.0</td>\n",
       "      <td>17.00</td>\n",
       "      <td>28.00</td>\n",
       "      <td>47.50</td>\n",
       "      <td>570.0</td>\n",
       "    </tr>\n",
       "  </tbody>\n",
       "</table>\n",
       "</div>"
      ],
      "text/plain": [
       "                     Power_Level                                            \\\n",
       "                           count       mean         std  min    25%    50%   \n",
       "Saga_or_Movie                                                                \n",
       "Emperor Pilaf Saga          14.0  35.500000   53.197744  1.5   6.25   9.25   \n",
       "Red Ribbon Army Saga        17.0  56.882353   31.555274  5.0  35.00  55.00   \n",
       "Tournament Saga             19.0  82.684211  145.567492  4.0  17.00  28.00   \n",
       "\n",
       "                                    \n",
       "                        75%    max  \n",
       "Saga_or_Movie                       \n",
       "Emperor Pilaf Saga    28.75  180.0  \n",
       "Red Ribbon Army Saga  72.00  115.0  \n",
       "Tournament Saga       47.50  570.0  "
      ]
     },
     "execution_count": 201,
     "metadata": {},
     "output_type": "execute_result"
    }
   ],
   "source": [
    "by_saga.describe()"
   ]
  },
  {
   "cell_type": "code",
   "execution_count": null,
   "metadata": {},
   "outputs": [],
   "source": []
  },
  {
   "cell_type": "markdown",
   "metadata": {},
   "source": [
    "Sorting data:"
   ]
  },
  {
   "cell_type": "code",
   "execution_count": 202,
   "metadata": {},
   "outputs": [
    {
     "data": {
      "text/html": [
       "<div>\n",
       "<style scoped>\n",
       "    .dataframe tbody tr th:only-of-type {\n",
       "        vertical-align: middle;\n",
       "    }\n",
       "\n",
       "    .dataframe tbody tr th {\n",
       "        vertical-align: top;\n",
       "    }\n",
       "\n",
       "    .dataframe thead th {\n",
       "        text-align: right;\n",
       "    }\n",
       "</style>\n",
       "<table border=\"1\" class=\"dataframe\">\n",
       "  <thead>\n",
       "    <tr style=\"text-align: right;\">\n",
       "      <th></th>\n",
       "      <th>Character</th>\n",
       "      <th>Power_Level</th>\n",
       "      <th>Saga_or_Movie</th>\n",
       "      <th>Dragon_Ball_Series</th>\n",
       "    </tr>\n",
       "  </thead>\n",
       "  <tbody>\n",
       "    <tr>\n",
       "      <th>1</th>\n",
       "      <td>Bulma</td>\n",
       "      <td>1.5</td>\n",
       "      <td>Emperor Pilaf Saga</td>\n",
       "      <td>Dragon Ball</td>\n",
       "    </tr>\n",
       "    <tr>\n",
       "      <th>18</th>\n",
       "      <td>Launch (good)</td>\n",
       "      <td>4.0</td>\n",
       "      <td>Tournament Saga</td>\n",
       "      <td>Dragon Ball</td>\n",
       "    </tr>\n",
       "    <tr>\n",
       "      <th>6</th>\n",
       "      <td>Puar</td>\n",
       "      <td>4.0</td>\n",
       "      <td>Emperor Pilaf Saga</td>\n",
       "      <td>Dragon Ball</td>\n",
       "    </tr>\n",
       "    <tr>\n",
       "      <th>35</th>\n",
       "      <td>Commander Red</td>\n",
       "      <td>5.0</td>\n",
       "      <td>Red Ribbon Army Saga</td>\n",
       "      <td>Dragon Ball</td>\n",
       "    </tr>\n",
       "    <tr>\n",
       "      <th>4</th>\n",
       "      <td>Oolong</td>\n",
       "      <td>5.0</td>\n",
       "      <td>Emperor Pilaf Saga</td>\n",
       "      <td>Dragon Ball</td>\n",
       "    </tr>\n",
       "    <tr>\n",
       "      <th>9</th>\n",
       "      <td>Chi-chi</td>\n",
       "      <td>6.0</td>\n",
       "      <td>Emperor Pilaf Saga</td>\n",
       "      <td>Dragon Ball</td>\n",
       "    </tr>\n",
       "    <tr>\n",
       "      <th>2</th>\n",
       "      <td>Bear Thief</td>\n",
       "      <td>7.0</td>\n",
       "      <td>Emperor Pilaf Saga</td>\n",
       "      <td>Dragon Ball</td>\n",
       "    </tr>\n",
       "    <tr>\n",
       "      <th>17</th>\n",
       "      <td>Launch (bad)</td>\n",
       "      <td>7.0</td>\n",
       "      <td>Tournament Saga</td>\n",
       "      <td>Dragon Ball</td>\n",
       "    </tr>\n",
       "    <tr>\n",
       "      <th>7</th>\n",
       "      <td>Goku (hungry)</td>\n",
       "      <td>8.0</td>\n",
       "      <td>Emperor Pilaf Saga</td>\n",
       "      <td>Dragon Ball</td>\n",
       "    </tr>\n",
       "    <tr>\n",
       "      <th>23</th>\n",
       "      <td>Bacterian</td>\n",
       "      <td>8.0</td>\n",
       "      <td>Tournament Saga</td>\n",
       "      <td>Dragon Ball</td>\n",
       "    </tr>\n",
       "    <tr>\n",
       "      <th>5</th>\n",
       "      <td>Yamcha</td>\n",
       "      <td>8.5</td>\n",
       "      <td>Emperor Pilaf Saga</td>\n",
       "      <td>Dragon Ball</td>\n",
       "    </tr>\n",
       "    <tr>\n",
       "      <th>16</th>\n",
       "      <td>Krillin</td>\n",
       "      <td>9.0</td>\n",
       "      <td>Tournament Saga</td>\n",
       "      <td>Dragon Ball</td>\n",
       "    </tr>\n",
       "    <tr>\n",
       "      <th>0</th>\n",
       "      <td>Goku</td>\n",
       "      <td>10.0</td>\n",
       "      <td>Emperor Pilaf Saga</td>\n",
       "      <td>Dragon Ball</td>\n",
       "    </tr>\n",
       "    <tr>\n",
       "      <th>12</th>\n",
       "      <td>Goku's Kamehameha</td>\n",
       "      <td>12.0</td>\n",
       "      <td>Emperor Pilaf Saga</td>\n",
       "      <td>Dragon Ball</td>\n",
       "    </tr>\n",
       "    <tr>\n",
       "      <th>25</th>\n",
       "      <td>Ranfan</td>\n",
       "      <td>14.0</td>\n",
       "      <td>Tournament Saga</td>\n",
       "      <td>Dragon Ball</td>\n",
       "    </tr>\n",
       "    <tr>\n",
       "      <th>45</th>\n",
       "      <td>Captain Yellow</td>\n",
       "      <td>18.0</td>\n",
       "      <td>Red Ribbon Army Saga</td>\n",
       "      <td>Dragon Ball</td>\n",
       "    </tr>\n",
       "    <tr>\n",
       "      <th>34</th>\n",
       "      <td>Colonel Silver</td>\n",
       "      <td>20.0</td>\n",
       "      <td>Red Ribbon Army Saga</td>\n",
       "      <td>Dragon Ball</td>\n",
       "    </tr>\n",
       "    <tr>\n",
       "      <th>24</th>\n",
       "      <td>Nam</td>\n",
       "      <td>20.0</td>\n",
       "      <td>Tournament Saga</td>\n",
       "      <td>Dragon Ball</td>\n",
       "    </tr>\n",
       "    <tr>\n",
       "      <th>22</th>\n",
       "      <td>Yamcha</td>\n",
       "      <td>21.0</td>\n",
       "      <td>Tournament Saga</td>\n",
       "      <td>Dragon Ball</td>\n",
       "    </tr>\n",
       "    <tr>\n",
       "      <th>20</th>\n",
       "      <td>Krillin (Master Roshi's training)</td>\n",
       "      <td>24.0</td>\n",
       "      <td>Tournament Saga</td>\n",
       "      <td>Dragon Ball</td>\n",
       "    </tr>\n",
       "    <tr>\n",
       "      <th>31</th>\n",
       "      <td>Goku (weakened)</td>\n",
       "      <td>24.0</td>\n",
       "      <td>Tournament Saga</td>\n",
       "      <td>Dragon Ball</td>\n",
       "    </tr>\n",
       "    <tr>\n",
       "      <th>8</th>\n",
       "      <td>Ox-King</td>\n",
       "      <td>25.0</td>\n",
       "      <td>Emperor Pilaf Saga</td>\n",
       "      <td>Dragon Ball</td>\n",
       "    </tr>\n",
       "    <tr>\n",
       "      <th>14</th>\n",
       "      <td>Goku</td>\n",
       "      <td>28.0</td>\n",
       "      <td>Tournament Saga</td>\n",
       "      <td>Dragon Ball</td>\n",
       "    </tr>\n",
       "    <tr>\n",
       "      <th>3</th>\n",
       "      <td>Master Roshi</td>\n",
       "      <td>30.0</td>\n",
       "      <td>Emperor Pilaf Saga</td>\n",
       "      <td>Dragon Ball</td>\n",
       "    </tr>\n",
       "    <tr>\n",
       "      <th>26</th>\n",
       "      <td>Giran</td>\n",
       "      <td>33.0</td>\n",
       "      <td>Tournament Saga</td>\n",
       "      <td>Dragon Ball</td>\n",
       "    </tr>\n",
       "    <tr>\n",
       "      <th>46</th>\n",
       "      <td>Bora</td>\n",
       "      <td>34.0</td>\n",
       "      <td>Red Ribbon Army Saga</td>\n",
       "      <td>Dragon Ball</td>\n",
       "    </tr>\n",
       "    <tr>\n",
       "      <th>44</th>\n",
       "      <td>Arale</td>\n",
       "      <td>35.0</td>\n",
       "      <td>Red Ribbon Army Saga</td>\n",
       "      <td>Dragon Ball</td>\n",
       "    </tr>\n",
       "    <tr>\n",
       "      <th>19</th>\n",
       "      <td>Goku (Master Roshi's training)</td>\n",
       "      <td>37.0</td>\n",
       "      <td>Tournament Saga</td>\n",
       "      <td>Dragon Ball</td>\n",
       "    </tr>\n",
       "    <tr>\n",
       "      <th>38</th>\n",
       "      <td>Ninja Murasaki</td>\n",
       "      <td>40.0</td>\n",
       "      <td>Red Ribbon Army Saga</td>\n",
       "      <td>Dragon Ball</td>\n",
       "    </tr>\n",
       "    <tr>\n",
       "      <th>15</th>\n",
       "      <td>Master Roshi</td>\n",
       "      <td>40.0</td>\n",
       "      <td>Tournament Saga</td>\n",
       "      <td>Dragon Ball</td>\n",
       "    </tr>\n",
       "    <tr>\n",
       "      <th>43</th>\n",
       "      <td>Krillin</td>\n",
       "      <td>42.0</td>\n",
       "      <td>Red Ribbon Army Saga</td>\n",
       "      <td>Dragon Ball</td>\n",
       "    </tr>\n",
       "    <tr>\n",
       "      <th>32</th>\n",
       "      <td>Jackie Chun (weakened)</td>\n",
       "      <td>45.0</td>\n",
       "      <td>Tournament Saga</td>\n",
       "      <td>Dragon Ball</td>\n",
       "    </tr>\n",
       "    <tr>\n",
       "      <th>21</th>\n",
       "      <td>Jackie Chun</td>\n",
       "      <td>50.0</td>\n",
       "      <td>Tournament Saga</td>\n",
       "      <td>Dragon Ball</td>\n",
       "    </tr>\n",
       "    <tr>\n",
       "      <th>41</th>\n",
       "      <td>General White</td>\n",
       "      <td>50.0</td>\n",
       "      <td>Red Ribbon Army Saga</td>\n",
       "      <td>Dragon Ball</td>\n",
       "    </tr>\n",
       "    <tr>\n",
       "      <th>36</th>\n",
       "      <td>Major Metarillitron</td>\n",
       "      <td>55.0</td>\n",
       "      <td>Red Ribbon Army Saga</td>\n",
       "      <td>Dragon Ball</td>\n",
       "    </tr>\n",
       "    <tr>\n",
       "      <th>27</th>\n",
       "      <td>Goku (tail regrown)</td>\n",
       "      <td>57.0</td>\n",
       "      <td>Tournament Saga</td>\n",
       "      <td>Dragon Ball</td>\n",
       "    </tr>\n",
       "    <tr>\n",
       "      <th>40</th>\n",
       "      <td>Buyon</td>\n",
       "      <td>58.0</td>\n",
       "      <td>Red Ribbon Army Saga</td>\n",
       "      <td>Dragon Ball</td>\n",
       "    </tr>\n",
       "    <tr>\n",
       "      <th>33</th>\n",
       "      <td>Goku</td>\n",
       "      <td>66.0</td>\n",
       "      <td>Red Ribbon Army Saga</td>\n",
       "      <td>Dragon Ball</td>\n",
       "    </tr>\n",
       "    <tr>\n",
       "      <th>39</th>\n",
       "      <td>Android 8</td>\n",
       "      <td>67.0</td>\n",
       "      <td>Red Ribbon Army Saga</td>\n",
       "      <td>Dragon Ball</td>\n",
       "    </tr>\n",
       "    <tr>\n",
       "      <th>42</th>\n",
       "      <td>General Blue</td>\n",
       "      <td>72.0</td>\n",
       "      <td>Red Ribbon Army Saga</td>\n",
       "      <td>Dragon Ball</td>\n",
       "    </tr>\n",
       "    <tr>\n",
       "      <th>48</th>\n",
       "      <td>Goku's Kamehameha</td>\n",
       "      <td>90.0</td>\n",
       "      <td>Red Ribbon Army Saga</td>\n",
       "      <td>Dragon Ball</td>\n",
       "    </tr>\n",
       "    <tr>\n",
       "      <th>37</th>\n",
       "      <td>Goku's Kamehameha</td>\n",
       "      <td>90.0</td>\n",
       "      <td>Red Ribbon Army Saga</td>\n",
       "      <td>Dragon Ball</td>\n",
       "    </tr>\n",
       "    <tr>\n",
       "      <th>10</th>\n",
       "      <td>Master Roshi (Max power)</td>\n",
       "      <td>100.0</td>\n",
       "      <td>Emperor Pilaf Saga</td>\n",
       "      <td>Dragon Ball</td>\n",
       "    </tr>\n",
       "    <tr>\n",
       "      <th>13</th>\n",
       "      <td>Great Ape Goku</td>\n",
       "      <td>100.0</td>\n",
       "      <td>Emperor Pilaf Saga</td>\n",
       "      <td>Dragon Ball</td>\n",
       "    </tr>\n",
       "    <tr>\n",
       "      <th>47</th>\n",
       "      <td>Mercenary Tao</td>\n",
       "      <td>110.0</td>\n",
       "      <td>Red Ribbon Army Saga</td>\n",
       "      <td>Dragon Ball</td>\n",
       "    </tr>\n",
       "    <tr>\n",
       "      <th>49</th>\n",
       "      <td>Mercenary Tao's Dodon Ray</td>\n",
       "      <td>115.0</td>\n",
       "      <td>Red Ribbon Army Saga</td>\n",
       "      <td>Dragon Ball</td>\n",
       "    </tr>\n",
       "    <tr>\n",
       "      <th>11</th>\n",
       "      <td>Master Roshi's Max Power Kamehameha</td>\n",
       "      <td>180.0</td>\n",
       "      <td>Emperor Pilaf Saga</td>\n",
       "      <td>Dragon Ball</td>\n",
       "    </tr>\n",
       "    <tr>\n",
       "      <th>29</th>\n",
       "      <td>Jackie Chun (Max power)</td>\n",
       "      <td>250.0</td>\n",
       "      <td>Tournament Saga</td>\n",
       "      <td>Dragon Ball</td>\n",
       "    </tr>\n",
       "    <tr>\n",
       "      <th>30</th>\n",
       "      <td>Jackie Chun's Max power Kamehamha</td>\n",
       "      <td>330.0</td>\n",
       "      <td>Tournament Saga</td>\n",
       "      <td>Dragon Ball</td>\n",
       "    </tr>\n",
       "    <tr>\n",
       "      <th>28</th>\n",
       "      <td>Great Aper Goku</td>\n",
       "      <td>570.0</td>\n",
       "      <td>Tournament Saga</td>\n",
       "      <td>Dragon Ball</td>\n",
       "    </tr>\n",
       "  </tbody>\n",
       "</table>\n",
       "</div>"
      ],
      "text/plain": [
       "                              Character  Power_Level         Saga_or_Movie  \\\n",
       "1                                 Bulma          1.5    Emperor Pilaf Saga   \n",
       "18                        Launch (good)          4.0       Tournament Saga   \n",
       "6                                  Puar          4.0    Emperor Pilaf Saga   \n",
       "35                        Commander Red          5.0  Red Ribbon Army Saga   \n",
       "4                                Oolong          5.0    Emperor Pilaf Saga   \n",
       "9                               Chi-chi          6.0    Emperor Pilaf Saga   \n",
       "2                            Bear Thief          7.0    Emperor Pilaf Saga   \n",
       "17                         Launch (bad)          7.0       Tournament Saga   \n",
       "7                         Goku (hungry)          8.0    Emperor Pilaf Saga   \n",
       "23                            Bacterian          8.0       Tournament Saga   \n",
       "5                                Yamcha          8.5    Emperor Pilaf Saga   \n",
       "16                              Krillin          9.0       Tournament Saga   \n",
       "0                                  Goku         10.0    Emperor Pilaf Saga   \n",
       "12                    Goku's Kamehameha         12.0    Emperor Pilaf Saga   \n",
       "25                               Ranfan         14.0       Tournament Saga   \n",
       "45                       Captain Yellow         18.0  Red Ribbon Army Saga   \n",
       "34                       Colonel Silver         20.0  Red Ribbon Army Saga   \n",
       "24                                  Nam         20.0       Tournament Saga   \n",
       "22                               Yamcha         21.0       Tournament Saga   \n",
       "20    Krillin (Master Roshi's training)         24.0       Tournament Saga   \n",
       "31                      Goku (weakened)         24.0       Tournament Saga   \n",
       "8                               Ox-King         25.0    Emperor Pilaf Saga   \n",
       "14                                 Goku         28.0       Tournament Saga   \n",
       "3                          Master Roshi         30.0    Emperor Pilaf Saga   \n",
       "26                                Giran         33.0       Tournament Saga   \n",
       "46                                 Bora         34.0  Red Ribbon Army Saga   \n",
       "44                                Arale         35.0  Red Ribbon Army Saga   \n",
       "19       Goku (Master Roshi's training)         37.0       Tournament Saga   \n",
       "38                       Ninja Murasaki         40.0  Red Ribbon Army Saga   \n",
       "15                         Master Roshi         40.0       Tournament Saga   \n",
       "43                              Krillin         42.0  Red Ribbon Army Saga   \n",
       "32               Jackie Chun (weakened)         45.0       Tournament Saga   \n",
       "21                          Jackie Chun         50.0       Tournament Saga   \n",
       "41                        General White         50.0  Red Ribbon Army Saga   \n",
       "36                  Major Metarillitron         55.0  Red Ribbon Army Saga   \n",
       "27                  Goku (tail regrown)         57.0       Tournament Saga   \n",
       "40                                Buyon         58.0  Red Ribbon Army Saga   \n",
       "33                                 Goku         66.0  Red Ribbon Army Saga   \n",
       "39                            Android 8         67.0  Red Ribbon Army Saga   \n",
       "42                         General Blue         72.0  Red Ribbon Army Saga   \n",
       "48                    Goku's Kamehameha         90.0  Red Ribbon Army Saga   \n",
       "37                    Goku's Kamehameha         90.0  Red Ribbon Army Saga   \n",
       "10             Master Roshi (Max power)        100.0    Emperor Pilaf Saga   \n",
       "13                       Great Ape Goku        100.0    Emperor Pilaf Saga   \n",
       "47                        Mercenary Tao        110.0  Red Ribbon Army Saga   \n",
       "49            Mercenary Tao's Dodon Ray        115.0  Red Ribbon Army Saga   \n",
       "11  Master Roshi's Max Power Kamehameha        180.0    Emperor Pilaf Saga   \n",
       "29              Jackie Chun (Max power)        250.0       Tournament Saga   \n",
       "30    Jackie Chun's Max power Kamehamha        330.0       Tournament Saga   \n",
       "28                      Great Aper Goku        570.0       Tournament Saga   \n",
       "\n",
       "   Dragon_Ball_Series  \n",
       "1         Dragon Ball  \n",
       "18        Dragon Ball  \n",
       "6         Dragon Ball  \n",
       "35        Dragon Ball  \n",
       "4         Dragon Ball  \n",
       "9         Dragon Ball  \n",
       "2         Dragon Ball  \n",
       "17        Dragon Ball  \n",
       "7         Dragon Ball  \n",
       "23        Dragon Ball  \n",
       "5         Dragon Ball  \n",
       "16        Dragon Ball  \n",
       "0         Dragon Ball  \n",
       "12        Dragon Ball  \n",
       "25        Dragon Ball  \n",
       "45        Dragon Ball  \n",
       "34        Dragon Ball  \n",
       "24        Dragon Ball  \n",
       "22        Dragon Ball  \n",
       "20        Dragon Ball  \n",
       "31        Dragon Ball  \n",
       "8         Dragon Ball  \n",
       "14        Dragon Ball  \n",
       "3         Dragon Ball  \n",
       "26        Dragon Ball  \n",
       "46        Dragon Ball  \n",
       "44        Dragon Ball  \n",
       "19        Dragon Ball  \n",
       "38        Dragon Ball  \n",
       "15        Dragon Ball  \n",
       "43        Dragon Ball  \n",
       "32        Dragon Ball  \n",
       "21        Dragon Ball  \n",
       "41        Dragon Ball  \n",
       "36        Dragon Ball  \n",
       "27        Dragon Ball  \n",
       "40        Dragon Ball  \n",
       "33        Dragon Ball  \n",
       "39        Dragon Ball  \n",
       "42        Dragon Ball  \n",
       "48        Dragon Ball  \n",
       "37        Dragon Ball  \n",
       "10        Dragon Ball  \n",
       "13        Dragon Ball  \n",
       "47        Dragon Ball  \n",
       "49        Dragon Ball  \n",
       "11        Dragon Ball  \n",
       "29        Dragon Ball  \n",
       "30        Dragon Ball  \n",
       "28        Dragon Ball  "
      ]
     },
     "execution_count": 202,
     "metadata": {},
     "output_type": "execute_result"
    }
   ],
   "source": [
    "dbz_new.sort_values(by='Power_Level',ascending=True)"
   ]
  },
  {
   "cell_type": "code",
   "execution_count": null,
   "metadata": {},
   "outputs": [],
   "source": []
  },
  {
   "cell_type": "markdown",
   "metadata": {},
   "source": [
    "# Data Visualization"
   ]
  },
  {
   "cell_type": "markdown",
   "metadata": {},
   "source": [
    "We will be using matplotlib and seaborn for our visualizing our data."
   ]
  },
  {
   "cell_type": "markdown",
   "metadata": {},
   "source": [
    "Matplotlib is the \"grandfather\" library of data visualization with Python. It was created by John Hunter. He created it to try to replicate MatLab's (another programming language) plotting capabilities in Python. So if you happen to be familiar with matlab, matplotlib will feel natural to you.\n",
    "\n",
    "It is an excellent 2D and 3D graphics library for generating scientific figures. \n",
    "\n",
    "Some of the major Pros of Matplotlib are:\n",
    "\n",
    "* Generally easy to get started for simple plots\n",
    "* Support for custom labels and texts\n",
    "* Great control of every element in a figure\n",
    "* High-quality output in many formats\n",
    "* Very customizable in general\n",
    "\n",
    "Matplotlib allows you to create reproducible figures programmatically. You can explore the official Matplotlib web page: http://matplotlib.org/\n",
    "\n",
    "## Installation \n",
    "\n",
    "You'll need to install matplotlib first with either:\n",
    "\n",
    "    conda install matplotlib\n",
    "or\n",
    "    pip install matplotlib\n",
    "    \n",
    "## Importing"
   ]
  },
  {
   "cell_type": "code",
   "execution_count": 203,
   "metadata": {},
   "outputs": [],
   "source": [
    "import matplotlib.pyplot as plt\n",
    "import seaborn as sns"
   ]
  },
  {
   "cell_type": "markdown",
   "metadata": {},
   "source": [
    "We have to use the following line to view the plots in the notebook:"
   ]
  },
  {
   "cell_type": "code",
   "execution_count": 205,
   "metadata": {},
   "outputs": [],
   "source": [
    "%matplotlib inline"
   ]
  },
  {
   "cell_type": "markdown",
   "metadata": {},
   "source": [
    "That line is only for jupyter notebooks, if you are using another editor, you'll use: plt.show() at the end of all your plotting commands to have the figure pop up in another window."
   ]
  },
  {
   "cell_type": "code",
   "execution_count": 206,
   "metadata": {},
   "outputs": [],
   "source": [
    "# Basic Example:\n",
    "\n",
    "x = np.linspace(0,9, 11)\n",
    "y = x ** 2"
   ]
  },
  {
   "cell_type": "code",
   "execution_count": 207,
   "metadata": {},
   "outputs": [
    {
     "data": {
      "text/plain": [
       "array([0. , 0.9, 1.8, 2.7, 3.6, 4.5, 5.4, 6.3, 7.2, 8.1, 9. ])"
      ]
     },
     "execution_count": 207,
     "metadata": {},
     "output_type": "execute_result"
    }
   ],
   "source": [
    "x"
   ]
  },
  {
   "cell_type": "code",
   "execution_count": 208,
   "metadata": {},
   "outputs": [
    {
     "data": {
      "text/plain": [
       "array([ 0.  ,  0.81,  3.24,  7.29, 12.96, 20.25, 29.16, 39.69, 51.84,\n",
       "       65.61, 81.  ])"
      ]
     },
     "execution_count": 208,
     "metadata": {},
     "output_type": "execute_result"
    }
   ],
   "source": [
    "y"
   ]
  },
  {
   "cell_type": "code",
   "execution_count": 209,
   "metadata": {},
   "outputs": [
    {
     "data": {
      "image/png": "[encoded data removed]",
      "text/plain": [
       "<Figure size 432x288 with 1 Axes>"
      ]
     },
     "metadata": {
      "needs_background": "light"
     },
     "output_type": "display_data"
    }
   ],
   "source": [
    "plt.plot(x, y, 'r') # 'r' is the color red\n",
    "plt.xlabel('X Axis Title Here')\n",
    "plt.ylabel('Y Axis Title Here')\n",
    "plt.title('String Title Here')\n",
    "plt.show()"
   ]
  },
  {
   "cell_type": "markdown",
   "metadata": {},
   "source": [
    "**Multiple plots on the same canvas:**"
   ]
  },
  {
   "cell_type": "code",
   "execution_count": 211,
   "metadata": {},
   "outputs": [
    {
     "data": {
      "text/plain": [
       "[<matplotlib.lines.Line2D at 0x22852495160>]"
      ]
     },
     "execution_count": 211,
     "metadata": {},
     "output_type": "execute_result"
    },
    {
     "data": {
      "image/png": "[encoded data removed]",
      "text/plain": [
       "<Figure size 432x288 with 2 Axes>"
      ]
     },
     "metadata": {
      "needs_background": "light"
     },
     "output_type": "display_data"
    }
   ],
   "source": [
    "# plt.subplot(num_rows, num_cols, plot_number)\n",
    "plt.subplot(1,2,1)\n",
    "plt.plot(x, y, 'r--')\n",
    "plt.subplot(1,2,2)\n",
    "plt.plot(y, x, 'g*-')"
   ]
  },
  {
   "cell_type": "markdown",
   "metadata": {},
   "source": [
    "Matplotlib has many functionalities which can be easily explored on its website!\n",
    "\n",
    "Let's use seaborn to visualize our Dragon Ball Data"
   ]
  },
  {
   "cell_type": "markdown",
   "metadata": {},
   "source": [
    "#### Univariate Plotting:"
   ]
  },
  {
   "cell_type": "code",
   "execution_count": 212,
   "metadata": {},
   "outputs": [
    {
     "data": {
      "text/plain": [
       "<matplotlib.axes._subplots.AxesSubplot at 0x228544fed30>"
      ]
     },
     "execution_count": 212,
     "metadata": {},
     "output_type": "execute_result"
    },
    {
     "data": {
      "image/png": "[encoded data removed]",
      "text/plain": [
       "<Figure size 432x288 with 1 Axes>"
      ]
     },
     "metadata": {
      "needs_background": "light"
     },
     "output_type": "display_data"
    }
   ],
   "source": [
    "# Distribution Plot:\n",
    "\n",
    "sns.distplot(dbz_new['Power_Level'])"
   ]
  },
  {
   "cell_type": "markdown",
   "metadata": {},
   "source": [
    "kdeplots are [Kernel Density Estimation plots](http://en.wikipedia.org/wiki/Kernel_density_estimation#Practical_estimation_of_the_bandwidth). These KDE plots replace every single observation with a Gaussian (Normal) distribution centered around that value."
   ]
  },
  {
   "cell_type": "code",
   "execution_count": 213,
   "metadata": {},
   "outputs": [
    {
     "data": {
      "text/plain": [
       "<matplotlib.axes._subplots.AxesSubplot at 0x2285861c5c0>"
      ]
     },
     "execution_count": 213,
     "metadata": {},
     "output_type": "execute_result"
    },
    {
     "data": {
      "image/png": "[encoded data removed]",
      "text/plain": [
       "<Figure size 432x288 with 1 Axes>"
      ]
     },
     "metadata": {
      "needs_background": "light"
     },
     "output_type": "display_data"
    }
   ],
   "source": [
    "sns.kdeplot(dbz_new['Power_Level'])"
   ]
  },
  {
   "cell_type": "code",
   "execution_count": 214,
   "metadata": {},
   "outputs": [
    {
     "data": {
      "text/plain": [
       "<matplotlib.axes._subplots.AxesSubplot at 0x22858630f60>"
      ]
     },
     "execution_count": 214,
     "metadata": {},
     "output_type": "execute_result"
    },
    {
     "data": {
      "image/png": "[encoded data removed]",
      "text/plain": [
       "<Figure size 432x288 with 1 Axes>"
      ]
     },
     "metadata": {
      "needs_background": "light"
     },
     "output_type": "display_data"
    }
   ],
   "source": [
    "# Rugplot also helps us visualize the distribution of data points:\n",
    "sns.rugplot(dbz_new['Power_Level'])"
   ]
  },
  {
   "cell_type": "markdown",
   "metadata": {},
   "source": [
    "#### Categorical Data Plots "
   ]
  },
  {
   "cell_type": "code",
   "execution_count": 216,
   "metadata": {},
   "outputs": [
    {
     "data": {
      "text/plain": [
       "<matplotlib.axes._subplots.AxesSubplot at 0x228588305f8>"
      ]
     },
     "execution_count": 216,
     "metadata": {},
     "output_type": "execute_result"
    },
    {
     "data": {
      "image/png": "[encoded data removed]",
      "text/plain": [
       "<Figure size 432x288 with 1 Axes>"
      ]
     },
     "metadata": {
      "needs_background": "light"
     },
     "output_type": "display_data"
    }
   ],
   "source": [
    "#Barplot is a general plot that allows you to aggregate the categorical data based off some function, by default the mean:\n",
    "sns.barplot(x='Saga_or_Movie',y='Power_Level',data=dbz_new)"
   ]
  },
  {
   "cell_type": "code",
   "execution_count": 217,
   "metadata": {},
   "outputs": [
    {
     "data": {
      "text/plain": [
       "<matplotlib.axes._subplots.AxesSubplot at 0x22858bd7c18>"
      ]
     },
     "execution_count": 217,
     "metadata": {},
     "output_type": "execute_result"
    },
    {
     "data": {
      "image/png": "[encoded data removed]",
      "text/plain": [
       "<Figure size 432x288 with 1 Axes>"
      ]
     },
     "metadata": {
      "needs_background": "light"
     },
     "output_type": "display_data"
    }
   ],
   "source": [
    "# We can change the estimator to our own function as well:\n",
    "sns.barplot(x='Saga_or_Movie',y='Power_Level',data=dbz_new,estimator=np.std)"
   ]
  },
  {
   "cell_type": "code",
   "execution_count": 219,
   "metadata": {},
   "outputs": [
    {
     "data": {
      "text/plain": [
       "<matplotlib.axes._subplots.AxesSubplot at 0x22858c1d080>"
      ]
     },
     "execution_count": 219,
     "metadata": {},
     "output_type": "execute_result"
    },
    {
     "data": {
      "image/png": "[encoded data removed]",
      "text/plain": [
       "<Figure size 432x288 with 1 Axes>"
      ]
     },
     "metadata": {
      "needs_background": "light"
     },
     "output_type": "display_data"
    }
   ],
   "source": [
    "# Counplot explicilty counts the number of occurences. Thus, we only pass the x value\n",
    "sns.countplot(x='Saga_or_Movie',data=dbz_new)"
   ]
  },
  {
   "cell_type": "markdown",
   "metadata": {},
   "source": [
    "Boxplots and Violinplots are used to shown the distribution of categorical data. A box plot (or box-and-whisker plot) shows the distribution of quantitative data in a way that facilitates comparisons between variables or across levels of a categorical variable. The box shows the quartiles of the dataset while the whiskers extend to show the rest of the distribution, except for points that are determined to be “outliers” using a method that is a function of the inter-quartile range."
   ]
  },
  {
   "cell_type": "code",
   "execution_count": 227,
   "metadata": {},
   "outputs": [
    {
     "data": {
      "text/plain": [
       "<matplotlib.axes._subplots.AxesSubplot at 0x2285924e358>"
      ]
     },
     "execution_count": 227,
     "metadata": {},
     "output_type": "execute_result"
    },
    {
     "data": {
      "image/png": "[encoded data removed]",
      "text/plain": [
       "<Figure size 720x864 with 1 Axes>"
      ]
     },
     "metadata": {
      "needs_background": "light"
     },
     "output_type": "display_data"
    }
   ],
   "source": [
    "plt.figure(figsize = (10,12))\n",
    "sns.boxplot(x='Saga_or_Movie',y='Power_Level',data=dbz_new)"
   ]
  },
  {
   "cell_type": "code",
   "execution_count": 228,
   "metadata": {},
   "outputs": [
    {
     "data": {
      "text/plain": [
       "<matplotlib.axes._subplots.AxesSubplot at 0x228588906a0>"
      ]
     },
     "execution_count": 228,
     "metadata": {},
     "output_type": "execute_result"
    },
    {
     "data": {
      "image/png": "[encoded data removed]",
      "text/plain": [
       "<Figure size 432x288 with 1 Axes>"
      ]
     },
     "metadata": {
      "needs_background": "light"
     },
     "output_type": "display_data"
    }
   ],
   "source": [
    "sns.violinplot(x='Saga_or_Movie',y='Power_Level',data=dbz_new)"
   ]
  },
  {
   "cell_type": "code",
   "execution_count": null,
   "metadata": {},
   "outputs": [],
   "source": []
  },
  {
   "cell_type": "markdown",
   "metadata": {},
   "source": [
    "#### Bivariate plotting "
   ]
  },
  {
   "cell_type": "markdown",
   "metadata": {},
   "source": [
    "We will use a built-in dataset in seaborn to understand bivariate plotting"
   ]
  },
  {
   "cell_type": "code",
   "execution_count": 229,
   "metadata": {},
   "outputs": [],
   "source": [
    "tips = sns.load_dataset('tips')"
   ]
  },
  {
   "cell_type": "code",
   "execution_count": 230,
   "metadata": {},
   "outputs": [
    {
     "data": {
      "text/html": [
       "<div>\n",
       "<style scoped>\n",
       "    .dataframe tbody tr th:only-of-type {\n",
       "        vertical-align: middle;\n",
       "    }\n",
       "\n",
       "    .dataframe tbody tr th {\n",
       "        vertical-align: top;\n",
       "    }\n",
       "\n",
       "    .dataframe thead th {\n",
       "        text-align: right;\n",
       "    }\n",
       "</style>\n",
       "<table border=\"1\" class=\"dataframe\">\n",
       "  <thead>\n",
       "    <tr style=\"text-align: right;\">\n",
       "      <th></th>\n",
       "      <th>total_bill</th>\n",
       "      <th>tip</th>\n",
       "      <th>sex</th>\n",
       "      <th>smoker</th>\n",
       "      <th>day</th>\n",
       "      <th>time</th>\n",
       "      <th>size</th>\n",
       "    </tr>\n",
       "  </thead>\n",
       "  <tbody>\n",
       "    <tr>\n",
       "      <th>0</th>\n",
       "      <td>16.99</td>\n",
       "      <td>1.01</td>\n",
       "      <td>Female</td>\n",
       "      <td>No</td>\n",
       "      <td>Sun</td>\n",
       "      <td>Dinner</td>\n",
       "      <td>2</td>\n",
       "    </tr>\n",
       "    <tr>\n",
       "      <th>1</th>\n",
       "      <td>10.34</td>\n",
       "      <td>1.66</td>\n",
       "      <td>Male</td>\n",
       "      <td>No</td>\n",
       "      <td>Sun</td>\n",
       "      <td>Dinner</td>\n",
       "      <td>3</td>\n",
       "    </tr>\n",
       "    <tr>\n",
       "      <th>2</th>\n",
       "      <td>21.01</td>\n",
       "      <td>3.50</td>\n",
       "      <td>Male</td>\n",
       "      <td>No</td>\n",
       "      <td>Sun</td>\n",
       "      <td>Dinner</td>\n",
       "      <td>3</td>\n",
       "    </tr>\n",
       "    <tr>\n",
       "      <th>3</th>\n",
       "      <td>23.68</td>\n",
       "      <td>3.31</td>\n",
       "      <td>Male</td>\n",
       "      <td>No</td>\n",
       "      <td>Sun</td>\n",
       "      <td>Dinner</td>\n",
       "      <td>2</td>\n",
       "    </tr>\n",
       "    <tr>\n",
       "      <th>4</th>\n",
       "      <td>24.59</td>\n",
       "      <td>3.61</td>\n",
       "      <td>Female</td>\n",
       "      <td>No</td>\n",
       "      <td>Sun</td>\n",
       "      <td>Dinner</td>\n",
       "      <td>4</td>\n",
       "    </tr>\n",
       "  </tbody>\n",
       "</table>\n",
       "</div>"
      ],
      "text/plain": [
       "   total_bill   tip     sex smoker  day    time  size\n",
       "0       16.99  1.01  Female     No  Sun  Dinner     2\n",
       "1       10.34  1.66    Male     No  Sun  Dinner     3\n",
       "2       21.01  3.50    Male     No  Sun  Dinner     3\n",
       "3       23.68  3.31    Male     No  Sun  Dinner     2\n",
       "4       24.59  3.61  Female     No  Sun  Dinner     4"
      ]
     },
     "execution_count": 230,
     "metadata": {},
     "output_type": "execute_result"
    }
   ],
   "source": [
    "tips.head()"
   ]
  },
  {
   "cell_type": "markdown",
   "metadata": {},
   "source": [
    "jointplot() allows you to basically match up two distplots for bivariate data. With your choice of what **kind** parameter to compare with: \n",
    "* “scatter” \n",
    "* “reg” \n",
    "* “resid” \n",
    "* “kde” \n",
    "* “hex”"
   ]
  },
  {
   "cell_type": "code",
   "execution_count": 231,
   "metadata": {},
   "outputs": [
    {
     "data": {
      "text/plain": [
       "<seaborn.axisgrid.JointGrid at 0x228593479b0>"
      ]
     },
     "execution_count": 231,
     "metadata": {},
     "output_type": "execute_result"
    },
    {
     "data": {
      "image/png": "[encoded data removed]",
      "text/plain": [
       "<Figure size 432x432 with 3 Axes>"
      ]
     },
     "metadata": {
      "needs_background": "light"
     },
     "output_type": "display_data"
    }
   ],
   "source": [
    "sns.jointplot(x='total_bill',y='tip',data=tips,kind='scatter')"
   ]
  },
  {
   "cell_type": "code",
   "execution_count": 232,
   "metadata": {},
   "outputs": [
    {
     "data": {
      "text/plain": [
       "<seaborn.axisgrid.JointGrid at 0x228598689b0>"
      ]
     },
     "execution_count": 232,
     "metadata": {},
     "output_type": "execute_result"
    },
    {
     "data": {
      "image/png": "[encoded data removed]",
      "text/plain": [
       "<Figure size 432x432 with 3 Axes>"
      ]
     },
     "metadata": {
      "needs_background": "light"
     },
     "output_type": "display_data"
    }
   ],
   "source": [
    "sns.jointplot(x='total_bill',y='tip',data=tips,kind='hex')"
   ]
  },
  {
   "cell_type": "markdown",
   "metadata": {},
   "source": [
    "Bivariate data visualization lets us understand the relationship between 2 variables in a dataset and how we can use them in our analysis!"
   ]
  },
  {
   "cell_type": "code",
   "execution_count": null,
   "metadata": {},
   "outputs": [],
   "source": []
  },
  {
   "cell_type": "markdown",
   "metadata": {},
   "source": [
    "# Thank You!"
   ]
  }
 ],
 "metadata": {
  "kernelspec": {
   "display_name": "Python 3",
   "language": "python",
   "name": "python3"
  },
  "language_info": {
   "codemirror_mode": {
    "name": "ipython",
    "version": 3
   },
   "file_extension": ".py",
   "mimetype": "text/x-python",
   "name": "python",
   "nbconvert_exporter": "python",
   "pygments_lexer": "ipython3",
   "version": "3.7.2"
  }
 },
 "nbformat": 4,
 "nbformat_minor": 2
}
